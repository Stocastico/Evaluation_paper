{
 "cells": [
  {
   "cell_type": "markdown",
   "id": "b6eb41bd",
   "metadata": {},
   "source": [
    "# Import and clean xAPI statements\n",
    "\n",
    "In this notebook, we import and clean the statements collected during the evaluation of the app in a school environment. The data analysis will be performed in other notebooks, and will rely on the [**xapi_analysis**](https://stocastico.github.io/xapi_analysis/) Python package."
   ]
  },
  {
   "cell_type": "code",
   "execution_count": 1,
   "id": "3a772e1d",
   "metadata": {},
   "outputs": [],
   "source": [
    "# Load aks_ai magics\n",
    "%load_ext ask_ai.magics"
   ]
  },
  {
   "cell_type": "code",
   "execution_count": 2,
   "id": "4b26b30d",
   "metadata": {},
   "outputs": [],
   "source": [
    "import numpy as np\n",
    "import pandas as pd\n",
    "import seaborn as sns\n",
    "from pathlib import Path\n",
    "import json\n",
    "from xapi_analysis.input_csv import *"
   ]
  },
  {
   "cell_type": "markdown",
   "id": "26c515c4",
   "metadata": {},
   "source": [
    "Let's define here the file(s) we are going to use. Each trial store the statements in a specific file. The trials happened in different days, so we also want to filter the data based on the timestamp the statement was sent, to avoid loading unnecessary data (for example, statements sent while testing the system)"
   ]
  },
  {
   "cell_type": "code",
   "execution_count": 3,
   "id": "18016027",
   "metadata": {},
   "outputs": [],
   "source": [
    "trials = { \"salesianos\": {\"file\": Path('statements_salesianos.csv'),\n",
    "                        \"start\": \"2023-03-10T10:00:00.000Z\",\n",
    "                        \"end\": \"2023-03-10T18:00:00.000Z\"},\n",
    "         \"deusto\": {\"file\": Path('statements_deusto.csv'),\n",
    "                    \"start\": \"2023-05-09T05:00:00.000Z\",\n",
    "                    \"end\": \"2023-05-09T13:00:00.000Z\"},\n",
    "         \"xubiri\": {\"file\": Path('statements_xubiri.csv'),\n",
    "                    \"start\": \"2023-05-10T05:00:00.000Z\",\n",
    "                    \"end\": \"2023-05-10T13:00:00.000Z\"}\n",
    "       }"
   ]
  },
  {
   "cell_type": "markdown",
   "id": "4a7e066e",
   "metadata": {},
   "source": [
    "We define some simple functions for importing and cleaning the dataset"
   ]
  },
  {
   "cell_type": "code",
   "execution_count": 4,
   "id": "3a023ab8",
   "metadata": {},
   "outputs": [],
   "source": [
    "def read_statements(input_file: Path) -> pd.DataFrame:\n",
    "    df = pd.read_csv(input_file,\n",
    "                 usecols = [\"timestamp\", \"actor\", \"verb\", \"object\", \"result\", \"stored\"])\n",
    "\n",
    "    df['timestamp'] = pd.to_datetime(df['timestamp'])\n",
    "    df = df.sort_values(by=['timestamp'], ascending=True)\n",
    "    return df\n",
    "\n",
    "def filter_statements_date(df: pd.DataFrame, start_date: str, end_date: str=\"\") -> pd.DataFrame:\n",
    "    df = df[df['timestamp'] >= start_date]\n",
    "    if end_date != \"\":\n",
    "        df = df[df['timestamp'] <= end_date]\n",
    "    return df\n",
    "    \n",
    "def clean_entry(val: str, column: str) -> str:\n",
    "    tmp = json.loads(val)\n",
    "    if column == 'actor':\n",
    "        return tmp['name']\n",
    "    elif column == 'verb':\n",
    "        return tmp['display']['en-US']\n",
    "    elif column == 'object':   \n",
    "        return tmp['definition']['name']['en-US']\n",
    "    else:\n",
    "        pass # just ignore it"
   ]
  },
  {
   "cell_type": "markdown",
   "id": "6dff8748",
   "metadata": {},
   "source": [
    "Now we read the statements and store them in a Pandas DataFrame, using the functions defined above."
   ]
  },
  {
   "cell_type": "code",
   "execution_count": 5,
   "id": "75869fef",
   "metadata": {},
   "outputs": [
    {
     "name": "stdout",
     "output_type": "stream",
     "text": [
      "salesianos\n",
      "******************************\n",
      "deusto\n",
      "******************************\n",
      "xubiri\n",
      "******************************\n"
     ]
    }
   ],
   "source": [
    "statements = []\n",
    "\n",
    "for k,v in trials.items():\n",
    "    print(k)\n",
    "    df = read_statements(v[\"file\"])\n",
    "    df = filter_statements_date(df, v[\"start\"], v[\"end\"])\n",
    "    statements.append(df)\n",
    "    print(\"***\"*10)"
   ]
  },
  {
   "cell_type": "markdown",
   "id": "30315776",
   "metadata": {},
   "source": [
    "Now we simplify a bit the way the information is displayed"
   ]
  },
  {
   "cell_type": "code",
   "execution_count": 6,
   "id": "16cf8db3",
   "metadata": {},
   "outputs": [],
   "source": [
    "for df in statements:\n",
    "    for nm in ['actor', 'verb', 'object']:\n",
    "        df[nm] = df[nm].map(lambda x: clean_entry(x, nm))"
   ]
  },
  {
   "cell_type": "markdown",
   "id": "2f3decfc",
   "metadata": {},
   "source": [
    "We should be good to go. Before saving the cleaned datasets as csv files, let's print some of the datapoints."
   ]
  },
  {
   "cell_type": "code",
   "execution_count": 7,
   "id": "85a0e872",
   "metadata": {},
   "outputs": [
    {
     "data": {
      "text/html": [
       "<div>\n",
       "<style scoped>\n",
       "    .dataframe tbody tr th:only-of-type {\n",
       "        vertical-align: middle;\n",
       "    }\n",
       "\n",
       "    .dataframe tbody tr th {\n",
       "        vertical-align: top;\n",
       "    }\n",
       "\n",
       "    .dataframe thead th {\n",
       "        text-align: right;\n",
       "    }\n",
       "</style>\n",
       "<table border=\"1\" class=\"dataframe\">\n",
       "  <thead>\n",
       "    <tr style=\"text-align: right;\">\n",
       "      <th></th>\n",
       "      <th>timestamp</th>\n",
       "      <th>stored</th>\n",
       "      <th>actor</th>\n",
       "      <th>verb</th>\n",
       "      <th>object</th>\n",
       "      <th>result</th>\n",
       "    </tr>\n",
       "  </thead>\n",
       "  <tbody>\n",
       "    <tr>\n",
       "      <th>1399</th>\n",
       "      <td>2023-03-10 11:41:29.439000+00:00</td>\n",
       "      <td>2023-03-10T11:41:29.439Z</td>\n",
       "      <td>Nuria</td>\n",
       "      <td>Logged In</td>\n",
       "      <td>Salesianos</td>\n",
       "      <td>NaN</td>\n",
       "    </tr>\n",
       "    <tr>\n",
       "      <th>1398</th>\n",
       "      <td>2023-03-10 11:41:41.906000+00:00</td>\n",
       "      <td>2023-03-10T11:41:41.906Z</td>\n",
       "      <td>Eider</td>\n",
       "      <td>Logged In</td>\n",
       "      <td>Salesianos</td>\n",
       "      <td>NaN</td>\n",
       "    </tr>\n",
       "    <tr>\n",
       "      <th>1397</th>\n",
       "      <td>2023-03-10 11:41:42.372000+00:00</td>\n",
       "      <td>2023-03-10T11:41:42.372Z</td>\n",
       "      <td>Janire</td>\n",
       "      <td>Logged In</td>\n",
       "      <td>Salesianos</td>\n",
       "      <td>NaN</td>\n",
       "    </tr>\n",
       "    <tr>\n",
       "      <th>1396</th>\n",
       "      <td>2023-03-10 11:42:19.063000+00:00</td>\n",
       "      <td>2023-03-10T11:42:19.063Z</td>\n",
       "      <td>Lucia</td>\n",
       "      <td>Logged In</td>\n",
       "      <td>Salesianos</td>\n",
       "      <td>NaN</td>\n",
       "    </tr>\n",
       "    <tr>\n",
       "      <th>1395</th>\n",
       "      <td>2023-03-10 11:42:29.061000+00:00</td>\n",
       "      <td>2023-03-10T11:42:29.061Z</td>\n",
       "      <td>unai</td>\n",
       "      <td>Logged In</td>\n",
       "      <td>Salesianos</td>\n",
       "      <td>NaN</td>\n",
       "    </tr>\n",
       "    <tr>\n",
       "      <th>1394</th>\n",
       "      <td>2023-03-10 11:45:09.638000+00:00</td>\n",
       "      <td>2023-03-10T11:45:09.638Z</td>\n",
       "      <td>Teacher</td>\n",
       "      <td>Logged In</td>\n",
       "      <td>Salesianos</td>\n",
       "      <td>NaN</td>\n",
       "    </tr>\n",
       "    <tr>\n",
       "      <th>1393</th>\n",
       "      <td>2023-03-10 11:52:00.020000+00:00</td>\n",
       "      <td>2023-03-10T11:52:00.020Z</td>\n",
       "      <td>PC006</td>\n",
       "      <td>Logged In</td>\n",
       "      <td>Salesianos</td>\n",
       "      <td>NaN</td>\n",
       "    </tr>\n",
       "    <tr>\n",
       "      <th>1392</th>\n",
       "      <td>2023-03-10 11:52:04.063000+00:00</td>\n",
       "      <td>2023-03-10T11:52:04.063Z</td>\n",
       "      <td>PC008</td>\n",
       "      <td>Logged In</td>\n",
       "      <td>Salesianos</td>\n",
       "      <td>NaN</td>\n",
       "    </tr>\n",
       "    <tr>\n",
       "      <th>1391</th>\n",
       "      <td>2023-03-10 11:52:05.177000+00:00</td>\n",
       "      <td>2023-03-10T11:52:05.177Z</td>\n",
       "      <td>Tablet1</td>\n",
       "      <td>Logged In</td>\n",
       "      <td>Salesianos</td>\n",
       "      <td>{\"score\":{\"raw\":0}}</td>\n",
       "    </tr>\n",
       "    <tr>\n",
       "      <th>1390</th>\n",
       "      <td>2023-03-10 11:52:05.679000+00:00</td>\n",
       "      <td>2023-03-10T11:52:05.679Z</td>\n",
       "      <td>PC004</td>\n",
       "      <td>Logged In</td>\n",
       "      <td>Salesianos</td>\n",
       "      <td>NaN</td>\n",
       "    </tr>\n",
       "  </tbody>\n",
       "</table>\n",
       "</div>"
      ],
      "text/plain": [
       "                            timestamp                    stored    actor   \n",
       "1399 2023-03-10 11:41:29.439000+00:00  2023-03-10T11:41:29.439Z    Nuria  \\\n",
       "1398 2023-03-10 11:41:41.906000+00:00  2023-03-10T11:41:41.906Z    Eider   \n",
       "1397 2023-03-10 11:41:42.372000+00:00  2023-03-10T11:41:42.372Z   Janire   \n",
       "1396 2023-03-10 11:42:19.063000+00:00  2023-03-10T11:42:19.063Z    Lucia   \n",
       "1395 2023-03-10 11:42:29.061000+00:00  2023-03-10T11:42:29.061Z     unai   \n",
       "1394 2023-03-10 11:45:09.638000+00:00  2023-03-10T11:45:09.638Z  Teacher   \n",
       "1393 2023-03-10 11:52:00.020000+00:00  2023-03-10T11:52:00.020Z    PC006   \n",
       "1392 2023-03-10 11:52:04.063000+00:00  2023-03-10T11:52:04.063Z    PC008   \n",
       "1391 2023-03-10 11:52:05.177000+00:00  2023-03-10T11:52:05.177Z  Tablet1   \n",
       "1390 2023-03-10 11:52:05.679000+00:00  2023-03-10T11:52:05.679Z    PC004   \n",
       "\n",
       "           verb      object               result  \n",
       "1399  Logged In  Salesianos                  NaN  \n",
       "1398  Logged In  Salesianos                  NaN  \n",
       "1397  Logged In  Salesianos                  NaN  \n",
       "1396  Logged In  Salesianos                  NaN  \n",
       "1395  Logged In  Salesianos                  NaN  \n",
       "1394  Logged In  Salesianos                  NaN  \n",
       "1393  Logged In  Salesianos                  NaN  \n",
       "1392  Logged In  Salesianos                  NaN  \n",
       "1391  Logged In  Salesianos  {\"score\":{\"raw\":0}}  \n",
       "1390  Logged In  Salesianos                  NaN  "
      ]
     },
     "execution_count": 7,
     "metadata": {},
     "output_type": "execute_result"
    }
   ],
   "source": [
    "statements[0].head(10)"
   ]
  },
  {
   "cell_type": "code",
   "execution_count": 8,
   "id": "cb33468d",
   "metadata": {},
   "outputs": [
    {
     "data": {
      "text/plain": [
       "array(['Logged In', 'Placed', 'Swiped', 'Asked', 'Started', 'Logged Out',\n",
       "       'Accepted', 'Set Turn', 'Suggested', 'Ran Out', 'Sent', 'Checked',\n",
       "       'Assigned', 'Canceled', 'Ended'], dtype=object)"
      ]
     },
     "execution_count": 8,
     "metadata": {},
     "output_type": "execute_result"
    }
   ],
   "source": [
    "statements[0]['verb'].unique()"
   ]
  },
  {
   "cell_type": "code",
   "execution_count": 9,
   "id": "d18141bd",
   "metadata": {},
   "outputs": [
    {
     "data": {
      "text/html": [
       "<div>\n",
       "<style scoped>\n",
       "    .dataframe tbody tr th:only-of-type {\n",
       "        vertical-align: middle;\n",
       "    }\n",
       "\n",
       "    .dataframe tbody tr th {\n",
       "        vertical-align: top;\n",
       "    }\n",
       "\n",
       "    .dataframe thead th {\n",
       "        text-align: right;\n",
       "    }\n",
       "</style>\n",
       "<table border=\"1\" class=\"dataframe\">\n",
       "  <thead>\n",
       "    <tr style=\"text-align: right;\">\n",
       "      <th></th>\n",
       "      <th>timestamp</th>\n",
       "      <th>stored</th>\n",
       "      <th>actor</th>\n",
       "      <th>verb</th>\n",
       "      <th>object</th>\n",
       "      <th>result</th>\n",
       "    </tr>\n",
       "  </thead>\n",
       "  <tbody>\n",
       "    <tr>\n",
       "      <th>1379</th>\n",
       "      <td>2023-05-09 06:14:34.396000+00:00</td>\n",
       "      <td>2023-05-09T06:14:34.396Z</td>\n",
       "      <td>Android102</td>\n",
       "      <td>Logged In</td>\n",
       "      <td>Deusto</td>\n",
       "      <td>{\"score\":{\"raw\":0}}</td>\n",
       "    </tr>\n",
       "    <tr>\n",
       "      <th>1378</th>\n",
       "      <td>2023-05-09 06:14:50.827000+00:00</td>\n",
       "      <td>2023-05-09T06:14:50.827Z</td>\n",
       "      <td>Android101</td>\n",
       "      <td>Logged In</td>\n",
       "      <td>Deusto</td>\n",
       "      <td>{\"score\":{\"raw\":0}}</td>\n",
       "    </tr>\n",
       "    <tr>\n",
       "      <th>1377</th>\n",
       "      <td>2023-05-09 06:14:58.188000+00:00</td>\n",
       "      <td>2023-05-09T06:14:58.188Z</td>\n",
       "      <td>Tablet101</td>\n",
       "      <td>Logged In</td>\n",
       "      <td>Deusto</td>\n",
       "      <td>{\"score\":{\"raw\":0}}</td>\n",
       "    </tr>\n",
       "    <tr>\n",
       "      <th>1376</th>\n",
       "      <td>2023-05-09 06:15:25.807000+00:00</td>\n",
       "      <td>2023-05-09T06:15:25.807Z</td>\n",
       "      <td>iPad101</td>\n",
       "      <td>Logged In</td>\n",
       "      <td>Deusto</td>\n",
       "      <td>{\"score\":{\"raw\":0}}</td>\n",
       "    </tr>\n",
       "    <tr>\n",
       "      <th>1375</th>\n",
       "      <td>2023-05-09 06:15:36.016000+00:00</td>\n",
       "      <td>2023-05-09T06:15:36.016Z</td>\n",
       "      <td>Android104</td>\n",
       "      <td>Logged In</td>\n",
       "      <td>Deusto</td>\n",
       "      <td>{\"score\":{\"raw\":0}}</td>\n",
       "    </tr>\n",
       "  </tbody>\n",
       "</table>\n",
       "</div>"
      ],
      "text/plain": [
       "                            timestamp                    stored       actor   \n",
       "1379 2023-05-09 06:14:34.396000+00:00  2023-05-09T06:14:34.396Z  Android102  \\\n",
       "1378 2023-05-09 06:14:50.827000+00:00  2023-05-09T06:14:50.827Z  Android101   \n",
       "1377 2023-05-09 06:14:58.188000+00:00  2023-05-09T06:14:58.188Z   Tablet101   \n",
       "1376 2023-05-09 06:15:25.807000+00:00  2023-05-09T06:15:25.807Z     iPad101   \n",
       "1375 2023-05-09 06:15:36.016000+00:00  2023-05-09T06:15:36.016Z  Android104   \n",
       "\n",
       "           verb  object               result  \n",
       "1379  Logged In  Deusto  {\"score\":{\"raw\":0}}  \n",
       "1378  Logged In  Deusto  {\"score\":{\"raw\":0}}  \n",
       "1377  Logged In  Deusto  {\"score\":{\"raw\":0}}  \n",
       "1376  Logged In  Deusto  {\"score\":{\"raw\":0}}  \n",
       "1375  Logged In  Deusto  {\"score\":{\"raw\":0}}  "
      ]
     },
     "execution_count": 9,
     "metadata": {},
     "output_type": "execute_result"
    }
   ],
   "source": [
    "statements[1].head(5)"
   ]
  },
  {
   "cell_type": "code",
   "execution_count": 10,
   "id": "9b754fc6",
   "metadata": {},
   "outputs": [
    {
     "data": {
      "text/plain": [
       "array(['Android102', 'Android101', 'Tablet101', 'iPad101', 'Android104',\n",
       "       'Tablet102', 'Teacher', 'iPhone102', 'AR4Education', 'Iphone101',\n",
       "       'pc010', 'Iphone 101', 'iphone102'], dtype=object)"
      ]
     },
     "execution_count": 10,
     "metadata": {},
     "output_type": "execute_result"
    }
   ],
   "source": [
    "statements[1]['actor'].unique()"
   ]
  },
  {
   "cell_type": "code",
   "execution_count": 11,
   "id": "1bb69330",
   "metadata": {},
   "outputs": [
    {
     "name": "stdout",
     "output_type": "stream",
     "text": [
      "There are 1400 statements recorded in the trial\n",
      "There are 1380 statements recorded in the trial\n",
      "There are 1197 statements recorded in the trial\n"
     ]
    }
   ],
   "source": [
    "for df in statements:\n",
    "    print(f'There are {len(df)} statements recorded in the trial')"
   ]
  },
  {
   "cell_type": "code",
   "execution_count": 12,
   "id": "7f81a4ed",
   "metadata": {},
   "outputs": [],
   "source": [
    "statements[0].to_csv('statements_salesianos_clean.csv')\n",
    "statements[1].to_csv('statements_deusto_clean.csv')\n",
    "statements[2].to_csv('statements_xubiri_clean.csv')"
   ]
  }
 ],
 "metadata": {
  "kernelspec": {
   "display_name": "Python 3 (ipykernel)",
   "language": "python",
   "name": "python3"
  },
  "language_info": {
   "codemirror_mode": {
    "name": "ipython",
    "version": 3
   },
   "file_extension": ".py",
   "mimetype": "text/x-python",
   "name": "python",
   "nbconvert_exporter": "python",
   "pygments_lexer": "ipython3",
   "version": "3.9.16"
  }
 },
 "nbformat": 4,
 "nbformat_minor": 5
}
