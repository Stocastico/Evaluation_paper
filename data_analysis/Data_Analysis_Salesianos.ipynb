{
 "cells": [
  {
   "cell_type": "markdown",
   "id": "936ca825",
   "metadata": {},
   "source": [
    "# Data Analysis - Salesianos"
   ]
  },
  {
   "cell_type": "markdown",
   "id": "572dbeb0",
   "metadata": {},
   "source": [
    "In this notebook, the data resulting from the experiment with the AR Geography App in the *Salesianos* school will be analysed. The data includes both the raw data compiled from the app and the student surveys. There are two types of students based on the device they use during the experiment: PC (they can see what other students do and provide suggestions) or mobile (they can also receive questions from the teacher and answer them). After the trial, the students were given a survey consisting of a number of questions, which they had to rate from 1 to 5. There were 16 common questions, 2 questions phrased slightlu differently for mobile/PC users, and 2 questions only for mobile users. 9 of the students used a mobile device (when analysing the app data we will count them as 8 students, as one student left the experiment), while 8 of them used a PC. Thus, we have identified 4 datasets we will work with:\n",
    "\n",
    "- Survey dataset for the common questions\n",
    "- Survey dataset for the PC-only questions\n",
    "- Survey dataset for the mobile-only questions\n",
    "- Raw data from the app"
   ]
  },
  {
   "cell_type": "markdown",
   "id": "c75ea3e2",
   "metadata": {},
   "source": [
    "We have identified the following analysis areas for the previous datasets:\n",
    "\n",
    "**Common questions**\n",
    "\n",
    "1) General analysis of the common questions\n",
    "\n",
    "2) Analysis of the student answers\n",
    "\n",
    "3) Analysis of the question types\n",
    "\n",
    "**Mobile-only**\n",
    "\n",
    "1) General analysis of the mobile-only questions\n",
    "\n",
    "2) Analysis of the mobile students\n",
    "\n",
    "3) Analysis of the question types\n",
    "\n",
    "**PC-only**\n",
    "\n",
    "1) General analysis of the PC-only questions\n",
    "\n",
    "2) Analysis of the PC students\n",
    "\n",
    "3) Analysis of the question types\n",
    "\n",
    "**App data**\n",
    "\n",
    "1) Student interactions with the app (and how they correlate with the survey answers)\n",
    "\n",
    "2) Mobile students' grades\n",
    "\n",
    "3) PC students suggestions\n",
    "\n",
    "4) Mobile students accepted suggestions\n",
    "\n",
    "5) Left time in students' sent answers\n",
    "\n",
    "We will finish the analysis by providing some conclusions."
   ]
  },
  {
   "cell_type": "markdown",
   "id": "24f8f612",
   "metadata": {},
   "source": [
    "## Student Surveys"
   ]
  },
  {
   "cell_type": "markdown",
   "id": "997cac44",
   "metadata": {},
   "source": [
    "In this section we will analyse the student surveys that were completed after the experiment. This part of the analysis will focus on the common questions, the PC-only questions, and the mobile-only questions."
   ]
  },
  {
   "cell_type": "markdown",
   "id": "30b233c5",
   "metadata": {},
   "source": [
    "### Common questions"
   ]
  },
  {
   "cell_type": "markdown",
   "id": "37d84b25",
   "metadata": {},
   "source": [
    "#### 1) General analysis of the common questions"
   ]
  },
  {
   "cell_type": "markdown",
   "id": "848b5848",
   "metadata": {},
   "source": [
    "First, we will study the answers for the 17 common questions answered by all 17 students."
   ]
  },
  {
   "cell_type": "code",
   "execution_count": 1,
   "id": "14147e76",
   "metadata": {},
   "outputs": [],
   "source": [
    "import pandas as pd\n",
    "import matplotlib.pyplot as plt\n",
    "import numpy as np\n",
    "\n",
    "pd.options.display.max_columns = 500\n",
    "pd.options.display.max_rows = 500\n",
    "pd.options.display.max_colwidth = 500"
   ]
  },
  {
   "cell_type": "markdown",
   "id": "01fd36a9",
   "metadata": {},
   "source": [
    "We will read the first sheet in the Excel file:"
   ]
  },
  {
   "cell_type": "code",
   "execution_count": 2,
   "id": "0d8194ee",
   "metadata": {},
   "outputs": [
    {
     "data": {
      "text/html": [
       "<div>\n",
       "<style scoped>\n",
       "    .dataframe tbody tr th:only-of-type {\n",
       "        vertical-align: middle;\n",
       "    }\n",
       "\n",
       "    .dataframe tbody tr th {\n",
       "        vertical-align: top;\n",
       "    }\n",
       "\n",
       "    .dataframe thead th {\n",
       "        text-align: right;\n",
       "    }\n",
       "</style>\n",
       "<table border=\"1\" class=\"dataframe\">\n",
       "  <thead>\n",
       "    <tr style=\"text-align: right;\">\n",
       "      <th></th>\n",
       "      <th>Q-M</th>\n",
       "      <th>Q-PC</th>\n",
       "      <th>QUESTIONS</th>\n",
       "      <th>Type</th>\n",
       "      <th>iPad1</th>\n",
       "      <th>iPad2</th>\n",
       "      <th>Tablet1</th>\n",
       "      <th>Tablet2</th>\n",
       "      <th>iPhone1</th>\n",
       "      <th>Android1</th>\n",
       "      <th>Android2</th>\n",
       "      <th>Android3</th>\n",
       "      <th>Android4</th>\n",
       "      <th>PC002</th>\n",
       "      <th>PC003</th>\n",
       "      <th>PC004</th>\n",
       "      <th>PC005</th>\n",
       "      <th>PC006</th>\n",
       "      <th>PC007</th>\n",
       "      <th>PC008</th>\n",
       "      <th>PC009</th>\n",
       "    </tr>\n",
       "  </thead>\n",
       "  <tbody>\n",
       "    <tr>\n",
       "      <th>0</th>\n",
       "      <td>1.0</td>\n",
       "      <td>1.0</td>\n",
       "      <td>I think that I would like to use the application frequently.</td>\n",
       "      <td>Collaboration</td>\n",
       "      <td>3.0</td>\n",
       "      <td>3.0</td>\n",
       "      <td>4.0</td>\n",
       "      <td>5.0</td>\n",
       "      <td>3.0</td>\n",
       "      <td>5.0</td>\n",
       "      <td>4.0</td>\n",
       "      <td>3.0</td>\n",
       "      <td>3.0</td>\n",
       "      <td>3.0</td>\n",
       "      <td>3.0</td>\n",
       "      <td>3.0</td>\n",
       "      <td>3.0</td>\n",
       "      <td>1.0</td>\n",
       "      <td>4.0</td>\n",
       "      <td>3.0</td>\n",
       "      <td>4.0</td>\n",
       "    </tr>\n",
       "    <tr>\n",
       "      <th>1</th>\n",
       "      <td>2.0</td>\n",
       "      <td>2.0</td>\n",
       "      <td>I found the application to be simple.</td>\n",
       "      <td>Usability</td>\n",
       "      <td>4.0</td>\n",
       "      <td>4.0</td>\n",
       "      <td>5.0</td>\n",
       "      <td>4.0</td>\n",
       "      <td>3.0</td>\n",
       "      <td>2.0</td>\n",
       "      <td>3.0</td>\n",
       "      <td>3.0</td>\n",
       "      <td>3.0</td>\n",
       "      <td>4.0</td>\n",
       "      <td>4.0</td>\n",
       "      <td>4.0</td>\n",
       "      <td>3.0</td>\n",
       "      <td>2.0</td>\n",
       "      <td>4.0</td>\n",
       "      <td>4.0</td>\n",
       "      <td>5.0</td>\n",
       "    </tr>\n",
       "    <tr>\n",
       "      <th>2</th>\n",
       "      <td>3.0</td>\n",
       "      <td>3.0</td>\n",
       "      <td>I thought the application was easy to use.</td>\n",
       "      <td>Usability</td>\n",
       "      <td>4.0</td>\n",
       "      <td>3.0</td>\n",
       "      <td>4.0</td>\n",
       "      <td>4.0</td>\n",
       "      <td>3.0</td>\n",
       "      <td>4.0</td>\n",
       "      <td>3.0</td>\n",
       "      <td>3.0</td>\n",
       "      <td>4.0</td>\n",
       "      <td>5.0</td>\n",
       "      <td>4.0</td>\n",
       "      <td>3.0</td>\n",
       "      <td>2.0</td>\n",
       "      <td>1.0</td>\n",
       "      <td>4.0</td>\n",
       "      <td>4.0</td>\n",
       "      <td>5.0</td>\n",
       "    </tr>\n",
       "    <tr>\n",
       "      <th>3</th>\n",
       "      <td>4.0</td>\n",
       "      <td>4.0</td>\n",
       "      <td>I think that I could use the application without the support of a technical person.</td>\n",
       "      <td>Usability</td>\n",
       "      <td>5.0</td>\n",
       "      <td>4.0</td>\n",
       "      <td>3.0</td>\n",
       "      <td>4.0</td>\n",
       "      <td>5.0</td>\n",
       "      <td>4.0</td>\n",
       "      <td>2.0</td>\n",
       "      <td>2.0</td>\n",
       "      <td>4.0</td>\n",
       "      <td>5.0</td>\n",
       "      <td>4.0</td>\n",
       "      <td>4.0</td>\n",
       "      <td>4.0</td>\n",
       "      <td>1.0</td>\n",
       "      <td>3.0</td>\n",
       "      <td>4.0</td>\n",
       "      <td>5.0</td>\n",
       "    </tr>\n",
       "    <tr>\n",
       "      <th>4</th>\n",
       "      <td>5.0</td>\n",
       "      <td>5.0</td>\n",
       "      <td>I found the various functions in the application were well integrated</td>\n",
       "      <td>Functionality</td>\n",
       "      <td>5.0</td>\n",
       "      <td>4.0</td>\n",
       "      <td>4.0</td>\n",
       "      <td>4.0</td>\n",
       "      <td>3.0</td>\n",
       "      <td>5.0</td>\n",
       "      <td>4.0</td>\n",
       "      <td>3.0</td>\n",
       "      <td>3.0</td>\n",
       "      <td>4.0</td>\n",
       "      <td>4.0</td>\n",
       "      <td>4.0</td>\n",
       "      <td>4.0</td>\n",
       "      <td>2.0</td>\n",
       "      <td>3.0</td>\n",
       "      <td>4.0</td>\n",
       "      <td>5.0</td>\n",
       "    </tr>\n",
       "  </tbody>\n",
       "</table>\n",
       "</div>"
      ],
      "text/plain": [
       "   Q-M  Q-PC   \n",
       "0  1.0   1.0  \\\n",
       "1  2.0   2.0   \n",
       "2  3.0   3.0   \n",
       "3  4.0   4.0   \n",
       "4  5.0   5.0   \n",
       "\n",
       "                                                                             QUESTIONS   \n",
       "0                         I think that I would like to use the application frequently.  \\\n",
       "1                                                I found the application to be simple.   \n",
       "2                                           I thought the application was easy to use.   \n",
       "3  I think that I could use the application without the support of a technical person.   \n",
       "4                I found the various functions in the application were well integrated   \n",
       "\n",
       "            Type  iPad1  iPad2  Tablet1  Tablet2  iPhone1  Android1  Android2   \n",
       "0  Collaboration    3.0    3.0      4.0      5.0      3.0       5.0       4.0  \\\n",
       "1      Usability    4.0    4.0      5.0      4.0      3.0       2.0       3.0   \n",
       "2      Usability    4.0    3.0      4.0      4.0      3.0       4.0       3.0   \n",
       "3      Usability    5.0    4.0      3.0      4.0      5.0       4.0       2.0   \n",
       "4  Functionality    5.0    4.0      4.0      4.0      3.0       5.0       4.0   \n",
       "\n",
       "   Android3  Android4  PC002  PC003  PC004  PC005  PC006  PC007  PC008  PC009  \n",
       "0       3.0       3.0    3.0    3.0    3.0    3.0    1.0    4.0    3.0    4.0  \n",
       "1       3.0       3.0    4.0    4.0    4.0    3.0    2.0    4.0    4.0    5.0  \n",
       "2       3.0       4.0    5.0    4.0    3.0    2.0    1.0    4.0    4.0    5.0  \n",
       "3       2.0       4.0    5.0    4.0    4.0    4.0    1.0    3.0    4.0    5.0  \n",
       "4       3.0       3.0    4.0    4.0    4.0    4.0    2.0    3.0    4.0    5.0  "
      ]
     },
     "execution_count": 2,
     "metadata": {},
     "output_type": "execute_result"
    }
   ],
   "source": [
    "surveys_common = pd.read_excel(\"cuestionarios_salesianos.xlsx\").iloc[:17,:]\n",
    "surveys_common.head()"
   ]
  },
  {
   "cell_type": "markdown",
   "id": "0a8bfbc6",
   "metadata": {},
   "source": [
    "We don't need the question indices:"
   ]
  },
  {
   "cell_type": "code",
   "execution_count": 3,
   "id": "a428f796",
   "metadata": {},
   "outputs": [
    {
     "data": {
      "text/html": [
       "<div>\n",
       "<style scoped>\n",
       "    .dataframe tbody tr th:only-of-type {\n",
       "        vertical-align: middle;\n",
       "    }\n",
       "\n",
       "    .dataframe tbody tr th {\n",
       "        vertical-align: top;\n",
       "    }\n",
       "\n",
       "    .dataframe thead th {\n",
       "        text-align: right;\n",
       "    }\n",
       "</style>\n",
       "<table border=\"1\" class=\"dataframe\">\n",
       "  <thead>\n",
       "    <tr style=\"text-align: right;\">\n",
       "      <th></th>\n",
       "      <th>QUESTIONS</th>\n",
       "      <th>Type</th>\n",
       "      <th>iPad1</th>\n",
       "      <th>iPad2</th>\n",
       "      <th>Tablet1</th>\n",
       "      <th>Tablet2</th>\n",
       "      <th>iPhone1</th>\n",
       "      <th>Android1</th>\n",
       "      <th>Android2</th>\n",
       "      <th>Android3</th>\n",
       "      <th>Android4</th>\n",
       "      <th>PC002</th>\n",
       "      <th>PC003</th>\n",
       "      <th>PC004</th>\n",
       "      <th>PC005</th>\n",
       "      <th>PC006</th>\n",
       "      <th>PC007</th>\n",
       "      <th>PC008</th>\n",
       "      <th>PC009</th>\n",
       "    </tr>\n",
       "  </thead>\n",
       "  <tbody>\n",
       "    <tr>\n",
       "      <th>0</th>\n",
       "      <td>I think that I would like to use the application frequently.</td>\n",
       "      <td>Collaboration</td>\n",
       "      <td>3.0</td>\n",
       "      <td>3.0</td>\n",
       "      <td>4.0</td>\n",
       "      <td>5.0</td>\n",
       "      <td>3.0</td>\n",
       "      <td>5.0</td>\n",
       "      <td>4.0</td>\n",
       "      <td>3.0</td>\n",
       "      <td>3.0</td>\n",
       "      <td>3.0</td>\n",
       "      <td>3.0</td>\n",
       "      <td>3.0</td>\n",
       "      <td>3.0</td>\n",
       "      <td>1.0</td>\n",
       "      <td>4.0</td>\n",
       "      <td>3.0</td>\n",
       "      <td>4.0</td>\n",
       "    </tr>\n",
       "    <tr>\n",
       "      <th>1</th>\n",
       "      <td>I found the application to be simple.</td>\n",
       "      <td>Usability</td>\n",
       "      <td>4.0</td>\n",
       "      <td>4.0</td>\n",
       "      <td>5.0</td>\n",
       "      <td>4.0</td>\n",
       "      <td>3.0</td>\n",
       "      <td>2.0</td>\n",
       "      <td>3.0</td>\n",
       "      <td>3.0</td>\n",
       "      <td>3.0</td>\n",
       "      <td>4.0</td>\n",
       "      <td>4.0</td>\n",
       "      <td>4.0</td>\n",
       "      <td>3.0</td>\n",
       "      <td>2.0</td>\n",
       "      <td>4.0</td>\n",
       "      <td>4.0</td>\n",
       "      <td>5.0</td>\n",
       "    </tr>\n",
       "    <tr>\n",
       "      <th>2</th>\n",
       "      <td>I thought the application was easy to use.</td>\n",
       "      <td>Usability</td>\n",
       "      <td>4.0</td>\n",
       "      <td>3.0</td>\n",
       "      <td>4.0</td>\n",
       "      <td>4.0</td>\n",
       "      <td>3.0</td>\n",
       "      <td>4.0</td>\n",
       "      <td>3.0</td>\n",
       "      <td>3.0</td>\n",
       "      <td>4.0</td>\n",
       "      <td>5.0</td>\n",
       "      <td>4.0</td>\n",
       "      <td>3.0</td>\n",
       "      <td>2.0</td>\n",
       "      <td>1.0</td>\n",
       "      <td>4.0</td>\n",
       "      <td>4.0</td>\n",
       "      <td>5.0</td>\n",
       "    </tr>\n",
       "    <tr>\n",
       "      <th>3</th>\n",
       "      <td>I think that I could use the application without the support of a technical person.</td>\n",
       "      <td>Usability</td>\n",
       "      <td>5.0</td>\n",
       "      <td>4.0</td>\n",
       "      <td>3.0</td>\n",
       "      <td>4.0</td>\n",
       "      <td>5.0</td>\n",
       "      <td>4.0</td>\n",
       "      <td>2.0</td>\n",
       "      <td>2.0</td>\n",
       "      <td>4.0</td>\n",
       "      <td>5.0</td>\n",
       "      <td>4.0</td>\n",
       "      <td>4.0</td>\n",
       "      <td>4.0</td>\n",
       "      <td>1.0</td>\n",
       "      <td>3.0</td>\n",
       "      <td>4.0</td>\n",
       "      <td>5.0</td>\n",
       "    </tr>\n",
       "    <tr>\n",
       "      <th>4</th>\n",
       "      <td>I found the various functions in the application were well integrated</td>\n",
       "      <td>Functionality</td>\n",
       "      <td>5.0</td>\n",
       "      <td>4.0</td>\n",
       "      <td>4.0</td>\n",
       "      <td>4.0</td>\n",
       "      <td>3.0</td>\n",
       "      <td>5.0</td>\n",
       "      <td>4.0</td>\n",
       "      <td>3.0</td>\n",
       "      <td>3.0</td>\n",
       "      <td>4.0</td>\n",
       "      <td>4.0</td>\n",
       "      <td>4.0</td>\n",
       "      <td>4.0</td>\n",
       "      <td>2.0</td>\n",
       "      <td>3.0</td>\n",
       "      <td>4.0</td>\n",
       "      <td>5.0</td>\n",
       "    </tr>\n",
       "  </tbody>\n",
       "</table>\n",
       "</div>"
      ],
      "text/plain": [
       "                                                                             QUESTIONS   \n",
       "0                         I think that I would like to use the application frequently.  \\\n",
       "1                                                I found the application to be simple.   \n",
       "2                                           I thought the application was easy to use.   \n",
       "3  I think that I could use the application without the support of a technical person.   \n",
       "4                I found the various functions in the application were well integrated   \n",
       "\n",
       "            Type  iPad1  iPad2  Tablet1  Tablet2  iPhone1  Android1  Android2   \n",
       "0  Collaboration    3.0    3.0      4.0      5.0      3.0       5.0       4.0  \\\n",
       "1      Usability    4.0    4.0      5.0      4.0      3.0       2.0       3.0   \n",
       "2      Usability    4.0    3.0      4.0      4.0      3.0       4.0       3.0   \n",
       "3      Usability    5.0    4.0      3.0      4.0      5.0       4.0       2.0   \n",
       "4  Functionality    5.0    4.0      4.0      4.0      3.0       5.0       4.0   \n",
       "\n",
       "   Android3  Android4  PC002  PC003  PC004  PC005  PC006  PC007  PC008  PC009  \n",
       "0       3.0       3.0    3.0    3.0    3.0    3.0    1.0    4.0    3.0    4.0  \n",
       "1       3.0       3.0    4.0    4.0    4.0    3.0    2.0    4.0    4.0    5.0  \n",
       "2       3.0       4.0    5.0    4.0    3.0    2.0    1.0    4.0    4.0    5.0  \n",
       "3       2.0       4.0    5.0    4.0    4.0    4.0    1.0    3.0    4.0    5.0  \n",
       "4       3.0       3.0    4.0    4.0    4.0    4.0    2.0    3.0    4.0    5.0  "
      ]
     },
     "execution_count": 3,
     "metadata": {},
     "output_type": "execute_result"
    }
   ],
   "source": [
    "students = surveys_common.drop([\"Q-M\", \"Q-PC\"], axis=1)\n",
    "students.head()"
   ]
  },
  {
   "cell_type": "markdown",
   "id": "0cd14e66",
   "metadata": {},
   "source": [
    "Let's see what are the common questions that have obtained the highest and the lowest average ratings:"
   ]
  },
  {
   "cell_type": "code",
   "execution_count": 4,
   "id": "f22228ab",
   "metadata": {},
   "outputs": [
    {
     "data": {
      "text/html": [
       "<div>\n",
       "<style scoped>\n",
       "    .dataframe tbody tr th:only-of-type {\n",
       "        vertical-align: middle;\n",
       "    }\n",
       "\n",
       "    .dataframe tbody tr th {\n",
       "        vertical-align: top;\n",
       "    }\n",
       "\n",
       "    .dataframe thead th {\n",
       "        text-align: right;\n",
       "    }\n",
       "</style>\n",
       "<table border=\"1\" class=\"dataframe\">\n",
       "  <thead>\n",
       "    <tr style=\"text-align: right;\">\n",
       "      <th></th>\n",
       "      <th>QUESTIONS</th>\n",
       "      <th>mean</th>\n",
       "    </tr>\n",
       "  </thead>\n",
       "  <tbody>\n",
       "    <tr>\n",
       "      <th>0</th>\n",
       "      <td>I think that I would like to use the application frequently.</td>\n",
       "      <td>3.352941</td>\n",
       "    </tr>\n",
       "    <tr>\n",
       "      <th>2</th>\n",
       "      <td>I thought the application was easy to use.</td>\n",
       "      <td>3.529412</td>\n",
       "    </tr>\n",
       "    <tr>\n",
       "      <th>6</th>\n",
       "      <td>I found the application very intuitive.</td>\n",
       "      <td>3.529412</td>\n",
       "    </tr>\n",
       "    <tr>\n",
       "      <th>1</th>\n",
       "      <td>I found the application to be simple.</td>\n",
       "      <td>3.588235</td>\n",
       "    </tr>\n",
       "    <tr>\n",
       "      <th>9</th>\n",
       "      <td>I would like to use the application during a test</td>\n",
       "      <td>3.588235</td>\n",
       "    </tr>\n",
       "    <tr>\n",
       "      <th>3</th>\n",
       "      <td>I think that I could use the application without the support of a technical person.</td>\n",
       "      <td>3.705882</td>\n",
       "    </tr>\n",
       "    <tr>\n",
       "      <th>5</th>\n",
       "      <td>I would imagine that most people would learn to use the application very quickly.</td>\n",
       "      <td>3.705882</td>\n",
       "    </tr>\n",
       "    <tr>\n",
       "      <th>7</th>\n",
       "      <td>I felt very confident using the application.</td>\n",
       "      <td>3.705882</td>\n",
       "    </tr>\n",
       "    <tr>\n",
       "      <th>4</th>\n",
       "      <td>I found the various functions in the application were well integrated</td>\n",
       "      <td>3.823529</td>\n",
       "    </tr>\n",
       "    <tr>\n",
       "      <th>13</th>\n",
       "      <td>The device used  has allowed me to use the application easily</td>\n",
       "      <td>3.882353</td>\n",
       "    </tr>\n",
       "    <tr>\n",
       "      <th>10</th>\n",
       "      <td>Being able to provide suggestions made me feel more involved</td>\n",
       "      <td>4.000000</td>\n",
       "    </tr>\n",
       "    <tr>\n",
       "      <th>8</th>\n",
       "      <td>I could use the application without having to learn anything new.</td>\n",
       "      <td>4.058824</td>\n",
       "    </tr>\n",
       "    <tr>\n",
       "      <th>14</th>\n",
       "      <td>I would like to use the application to learn new concepts</td>\n",
       "      <td>4.117647</td>\n",
       "    </tr>\n",
       "    <tr>\n",
       "      <th>12</th>\n",
       "      <td>I find it more interesting to solve the exercises through the application than through a web page or in writing</td>\n",
       "      <td>4.176471</td>\n",
       "    </tr>\n",
       "    <tr>\n",
       "      <th>15</th>\n",
       "      <td>There are several ways to collaborate with my classmates through the application</td>\n",
       "      <td>4.235294</td>\n",
       "    </tr>\n",
       "    <tr>\n",
       "      <th>11</th>\n",
       "      <td>At all times I have been able to understand what the person who had to respond to the exercise was doing</td>\n",
       "      <td>4.352941</td>\n",
       "    </tr>\n",
       "    <tr>\n",
       "      <th>16</th>\n",
       "      <td>NaN</td>\n",
       "      <td>NaN</td>\n",
       "    </tr>\n",
       "  </tbody>\n",
       "</table>\n",
       "</div>"
      ],
      "text/plain": [
       "                                                                                                          QUESTIONS   \n",
       "0                                                      I think that I would like to use the application frequently.  \\\n",
       "2                                                                        I thought the application was easy to use.   \n",
       "6                                                                           I found the application very intuitive.   \n",
       "1                                                                             I found the application to be simple.   \n",
       "9                                                                 I would like to use the application during a test   \n",
       "3                               I think that I could use the application without the support of a technical person.   \n",
       "5                                 I would imagine that most people would learn to use the application very quickly.   \n",
       "7                                                                      I felt very confident using the application.   \n",
       "4                                             I found the various functions in the application were well integrated   \n",
       "13                                                    The device used  has allowed me to use the application easily   \n",
       "10                                                     Being able to provide suggestions made me feel more involved   \n",
       "8                                                 I could use the application without having to learn anything new.   \n",
       "14                                                        I would like to use the application to learn new concepts   \n",
       "12  I find it more interesting to solve the exercises through the application than through a web page or in writing   \n",
       "15                                 There are several ways to collaborate with my classmates through the application   \n",
       "11         At all times I have been able to understand what the person who had to respond to the exercise was doing   \n",
       "16                                                                                                              NaN   \n",
       "\n",
       "        mean  \n",
       "0   3.352941  \n",
       "2   3.529412  \n",
       "6   3.529412  \n",
       "1   3.588235  \n",
       "9   3.588235  \n",
       "3   3.705882  \n",
       "5   3.705882  \n",
       "7   3.705882  \n",
       "4   3.823529  \n",
       "13  3.882353  \n",
       "10  4.000000  \n",
       "8   4.058824  \n",
       "14  4.117647  \n",
       "12  4.176471  \n",
       "15  4.235294  \n",
       "11  4.352941  \n",
       "16       NaN  "
      ]
     },
     "execution_count": 4,
     "metadata": {},
     "output_type": "execute_result"
    }
   ],
   "source": [
    "students['mean'] = students.mean(numeric_only=True, axis=1)\n",
    "questions_avg = students[[\"QUESTIONS\", \"mean\"]]\n",
    "questions_avg = questions_avg.sort_values(\"mean\")\n",
    "questions_avg"
   ]
  },
  {
   "cell_type": "code",
   "execution_count": 5,
   "id": "974395fb",
   "metadata": {},
   "outputs": [
    {
     "ename": "TypeError",
     "evalue": "'value' must be an instance of str or bytes, not a float",
     "output_type": "error",
     "traceback": [
      "\u001b[0;31m---------------------------------------------------------------------------\u001b[0m",
      "\u001b[0;31mTypeError\u001b[0m                                 Traceback (most recent call last)",
      "Cell \u001b[0;32mIn[5], line 12\u001b[0m\n\u001b[1;32m      9\u001b[0m axs[\u001b[38;5;241m0\u001b[39m]\u001b[38;5;241m.\u001b[39mset_xlim(\u001b[38;5;241m1\u001b[39m,\u001b[38;5;241m5\u001b[39m)\n\u001b[1;32m     10\u001b[0m axs[\u001b[38;5;241m0\u001b[39m]\u001b[38;5;241m.\u001b[39minvert_yaxis()\n\u001b[0;32m---> 12\u001b[0m \u001b[43maxs\u001b[49m\u001b[43m[\u001b[49m\u001b[38;5;241;43m1\u001b[39;49m\u001b[43m]\u001b[49m\u001b[38;5;241;43m.\u001b[39;49m\u001b[43mbarh\u001b[49m\u001b[43m(\u001b[49m\u001b[43mquestions_avg\u001b[49m\u001b[43m[\u001b[49m\u001b[38;5;124;43m'\u001b[39;49m\u001b[38;5;124;43mQUESTIONS\u001b[39;49m\u001b[38;5;124;43m'\u001b[39;49m\u001b[43m]\u001b[49m\u001b[38;5;241;43m.\u001b[39;49m\u001b[43miloc\u001b[49m\u001b[43m[\u001b[49m\u001b[38;5;241;43m-\u001b[39;49m\u001b[38;5;241;43m3\u001b[39;49m\u001b[43m:\u001b[49m\u001b[43m]\u001b[49m\u001b[43m,\u001b[49m\u001b[43m \u001b[49m\u001b[43mquestions_avg\u001b[49m\u001b[43m[\u001b[49m\u001b[38;5;124;43m'\u001b[39;49m\u001b[38;5;124;43mmean\u001b[39;49m\u001b[38;5;124;43m'\u001b[39;49m\u001b[43m]\u001b[49m\u001b[38;5;241;43m.\u001b[39;49m\u001b[43miloc\u001b[49m\u001b[43m[\u001b[49m\u001b[38;5;241;43m-\u001b[39;49m\u001b[38;5;241;43m3\u001b[39;49m\u001b[43m:\u001b[49m\u001b[43m]\u001b[49m\u001b[43m,\u001b[49m\u001b[43m \u001b[49m\u001b[43mcolor\u001b[49m\u001b[38;5;241;43m=\u001b[39;49m\u001b[43mcolors\u001b[49m\u001b[43m[\u001b[49m\u001b[38;5;241;43m-\u001b[39;49m\u001b[38;5;241;43m3\u001b[39;49m\u001b[43m:\u001b[49m\u001b[43m]\u001b[49m\u001b[43m,\u001b[49m\u001b[43m \u001b[49m\u001b[43malign\u001b[49m\u001b[38;5;241;43m=\u001b[39;49m\u001b[38;5;124;43m'\u001b[39;49m\u001b[38;5;124;43mcenter\u001b[39;49m\u001b[38;5;124;43m'\u001b[39;49m\u001b[43m)\u001b[49m\n\u001b[1;32m     13\u001b[0m axs[\u001b[38;5;241m1\u001b[39m]\u001b[38;5;241m.\u001b[39mset_title(\u001b[38;5;124m'\u001b[39m\u001b[38;5;124mHighest Rated Questions\u001b[39m\u001b[38;5;124m'\u001b[39m)\n\u001b[1;32m     14\u001b[0m axs[\u001b[38;5;241m1\u001b[39m]\u001b[38;5;241m.\u001b[39mset_xlabel(\u001b[38;5;124m'\u001b[39m\u001b[38;5;124mMean Score\u001b[39m\u001b[38;5;124m'\u001b[39m)\n",
      "File \u001b[0;32m~/.virtualenvs/evalpaper/lib/python3.9/site-packages/matplotlib/axes/_axes.py:2649\u001b[0m, in \u001b[0;36mAxes.barh\u001b[0;34m(self, y, width, height, left, align, data, **kwargs)\u001b[0m\n\u001b[1;32m   2539\u001b[0m \u001b[38;5;250m\u001b[39m\u001b[38;5;124mr\u001b[39m\u001b[38;5;124;03m\"\"\"\u001b[39;00m\n\u001b[1;32m   2540\u001b[0m \u001b[38;5;124;03mMake a horizontal bar plot.\u001b[39;00m\n\u001b[1;32m   2541\u001b[0m \n\u001b[0;32m   (...)\u001b[0m\n\u001b[1;32m   2646\u001b[0m \u001b[38;5;124;03m:doc:`/gallery/lines_bars_and_markers/horizontal_barchart_distribution`.\u001b[39;00m\n\u001b[1;32m   2647\u001b[0m \u001b[38;5;124;03m\"\"\"\u001b[39;00m\n\u001b[1;32m   2648\u001b[0m kwargs\u001b[38;5;241m.\u001b[39msetdefault(\u001b[38;5;124m'\u001b[39m\u001b[38;5;124morientation\u001b[39m\u001b[38;5;124m'\u001b[39m, \u001b[38;5;124m'\u001b[39m\u001b[38;5;124mhorizontal\u001b[39m\u001b[38;5;124m'\u001b[39m)\n\u001b[0;32m-> 2649\u001b[0m patches \u001b[38;5;241m=\u001b[39m \u001b[38;5;28;43mself\u001b[39;49m\u001b[38;5;241;43m.\u001b[39;49m\u001b[43mbar\u001b[49m\u001b[43m(\u001b[49m\u001b[43mx\u001b[49m\u001b[38;5;241;43m=\u001b[39;49m\u001b[43mleft\u001b[49m\u001b[43m,\u001b[49m\u001b[43m \u001b[49m\u001b[43mheight\u001b[49m\u001b[38;5;241;43m=\u001b[39;49m\u001b[43mheight\u001b[49m\u001b[43m,\u001b[49m\u001b[43m \u001b[49m\u001b[43mwidth\u001b[49m\u001b[38;5;241;43m=\u001b[39;49m\u001b[43mwidth\u001b[49m\u001b[43m,\u001b[49m\u001b[43m \u001b[49m\u001b[43mbottom\u001b[49m\u001b[38;5;241;43m=\u001b[39;49m\u001b[43my\u001b[49m\u001b[43m,\u001b[49m\n\u001b[1;32m   2650\u001b[0m \u001b[43m                   \u001b[49m\u001b[43malign\u001b[49m\u001b[38;5;241;43m=\u001b[39;49m\u001b[43malign\u001b[49m\u001b[43m,\u001b[49m\u001b[43m \u001b[49m\u001b[43mdata\u001b[49m\u001b[38;5;241;43m=\u001b[39;49m\u001b[43mdata\u001b[49m\u001b[43m,\u001b[49m\u001b[43m \u001b[49m\u001b[38;5;241;43m*\u001b[39;49m\u001b[38;5;241;43m*\u001b[39;49m\u001b[43mkwargs\u001b[49m\u001b[43m)\u001b[49m\n\u001b[1;32m   2651\u001b[0m \u001b[38;5;28;01mreturn\u001b[39;00m patches\n",
      "File \u001b[0;32m~/.virtualenvs/evalpaper/lib/python3.9/site-packages/matplotlib/__init__.py:1442\u001b[0m, in \u001b[0;36m_preprocess_data.<locals>.inner\u001b[0;34m(ax, data, *args, **kwargs)\u001b[0m\n\u001b[1;32m   1439\u001b[0m \u001b[38;5;129m@functools\u001b[39m\u001b[38;5;241m.\u001b[39mwraps(func)\n\u001b[1;32m   1440\u001b[0m \u001b[38;5;28;01mdef\u001b[39;00m \u001b[38;5;21minner\u001b[39m(ax, \u001b[38;5;241m*\u001b[39margs, data\u001b[38;5;241m=\u001b[39m\u001b[38;5;28;01mNone\u001b[39;00m, \u001b[38;5;241m*\u001b[39m\u001b[38;5;241m*\u001b[39mkwargs):\n\u001b[1;32m   1441\u001b[0m     \u001b[38;5;28;01mif\u001b[39;00m data \u001b[38;5;129;01mis\u001b[39;00m \u001b[38;5;28;01mNone\u001b[39;00m:\n\u001b[0;32m-> 1442\u001b[0m         \u001b[38;5;28;01mreturn\u001b[39;00m \u001b[43mfunc\u001b[49m\u001b[43m(\u001b[49m\u001b[43max\u001b[49m\u001b[43m,\u001b[49m\u001b[43m \u001b[49m\u001b[38;5;241;43m*\u001b[39;49m\u001b[38;5;28;43mmap\u001b[39;49m\u001b[43m(\u001b[49m\u001b[43msanitize_sequence\u001b[49m\u001b[43m,\u001b[49m\u001b[43m \u001b[49m\u001b[43margs\u001b[49m\u001b[43m)\u001b[49m\u001b[43m,\u001b[49m\u001b[43m \u001b[49m\u001b[38;5;241;43m*\u001b[39;49m\u001b[38;5;241;43m*\u001b[39;49m\u001b[43mkwargs\u001b[49m\u001b[43m)\u001b[49m\n\u001b[1;32m   1444\u001b[0m     bound \u001b[38;5;241m=\u001b[39m new_sig\u001b[38;5;241m.\u001b[39mbind(ax, \u001b[38;5;241m*\u001b[39margs, \u001b[38;5;241m*\u001b[39m\u001b[38;5;241m*\u001b[39mkwargs)\n\u001b[1;32m   1445\u001b[0m     auto_label \u001b[38;5;241m=\u001b[39m (bound\u001b[38;5;241m.\u001b[39marguments\u001b[38;5;241m.\u001b[39mget(label_namer)\n\u001b[1;32m   1446\u001b[0m                   \u001b[38;5;129;01mor\u001b[39;00m bound\u001b[38;5;241m.\u001b[39mkwargs\u001b[38;5;241m.\u001b[39mget(label_namer))\n",
      "File \u001b[0;32m~/.virtualenvs/evalpaper/lib/python3.9/site-packages/matplotlib/axes/_axes.py:2397\u001b[0m, in \u001b[0;36mAxes.bar\u001b[0;34m(self, x, height, width, bottom, align, **kwargs)\u001b[0m\n\u001b[1;32m   2395\u001b[0m         \u001b[38;5;28mself\u001b[39m\u001b[38;5;241m.\u001b[39mset_yscale(\u001b[38;5;124m'\u001b[39m\u001b[38;5;124mlog\u001b[39m\u001b[38;5;124m'\u001b[39m, nonpositive\u001b[38;5;241m=\u001b[39m\u001b[38;5;124m'\u001b[39m\u001b[38;5;124mclip\u001b[39m\u001b[38;5;124m'\u001b[39m)\n\u001b[1;32m   2396\u001b[0m \u001b[38;5;28;01melse\u001b[39;00m:  \u001b[38;5;66;03m# horizontal\u001b[39;00m\n\u001b[0;32m-> 2397\u001b[0m     \u001b[38;5;28;43mself\u001b[39;49m\u001b[38;5;241;43m.\u001b[39;49m\u001b[43m_process_unit_info\u001b[49m\u001b[43m(\u001b[49m\n\u001b[1;32m   2398\u001b[0m \u001b[43m        \u001b[49m\u001b[43m[\u001b[49m\u001b[43m(\u001b[49m\u001b[38;5;124;43m\"\u001b[39;49m\u001b[38;5;124;43mx\u001b[39;49m\u001b[38;5;124;43m\"\u001b[39;49m\u001b[43m,\u001b[49m\u001b[43m \u001b[49m\u001b[43mwidth\u001b[49m\u001b[43m)\u001b[49m\u001b[43m,\u001b[49m\u001b[43m \u001b[49m\u001b[43m(\u001b[49m\u001b[38;5;124;43m\"\u001b[39;49m\u001b[38;5;124;43my\u001b[39;49m\u001b[38;5;124;43m\"\u001b[39;49m\u001b[43m,\u001b[49m\u001b[43m \u001b[49m\u001b[43my\u001b[49m\u001b[43m)\u001b[49m\u001b[43m]\u001b[49m\u001b[43m,\u001b[49m\u001b[43m \u001b[49m\u001b[43mkwargs\u001b[49m\u001b[43m,\u001b[49m\u001b[43m \u001b[49m\u001b[43mconvert\u001b[49m\u001b[38;5;241;43m=\u001b[39;49m\u001b[38;5;28;43;01mFalse\u001b[39;49;00m\u001b[43m)\u001b[49m\n\u001b[1;32m   2399\u001b[0m     \u001b[38;5;28;01mif\u001b[39;00m log:\n\u001b[1;32m   2400\u001b[0m         \u001b[38;5;28mself\u001b[39m\u001b[38;5;241m.\u001b[39mset_xscale(\u001b[38;5;124m'\u001b[39m\u001b[38;5;124mlog\u001b[39m\u001b[38;5;124m'\u001b[39m, nonpositive\u001b[38;5;241m=\u001b[39m\u001b[38;5;124m'\u001b[39m\u001b[38;5;124mclip\u001b[39m\u001b[38;5;124m'\u001b[39m)\n",
      "File \u001b[0;32m~/.virtualenvs/evalpaper/lib/python3.9/site-packages/matplotlib/axes/_base.py:2549\u001b[0m, in \u001b[0;36m_AxesBase._process_unit_info\u001b[0;34m(self, datasets, kwargs, convert)\u001b[0m\n\u001b[1;32m   2547\u001b[0m     \u001b[38;5;66;03m# Update from data if axis is already set but no unit is set yet.\u001b[39;00m\n\u001b[1;32m   2548\u001b[0m     \u001b[38;5;28;01mif\u001b[39;00m axis \u001b[38;5;129;01mis\u001b[39;00m \u001b[38;5;129;01mnot\u001b[39;00m \u001b[38;5;28;01mNone\u001b[39;00m \u001b[38;5;129;01mand\u001b[39;00m data \u001b[38;5;129;01mis\u001b[39;00m \u001b[38;5;129;01mnot\u001b[39;00m \u001b[38;5;28;01mNone\u001b[39;00m \u001b[38;5;129;01mand\u001b[39;00m \u001b[38;5;129;01mnot\u001b[39;00m axis\u001b[38;5;241m.\u001b[39mhave_units():\n\u001b[0;32m-> 2549\u001b[0m         \u001b[43maxis\u001b[49m\u001b[38;5;241;43m.\u001b[39;49m\u001b[43mupdate_units\u001b[49m\u001b[43m(\u001b[49m\u001b[43mdata\u001b[49m\u001b[43m)\u001b[49m\n\u001b[1;32m   2550\u001b[0m \u001b[38;5;28;01mfor\u001b[39;00m axis_name, axis \u001b[38;5;129;01min\u001b[39;00m axis_map\u001b[38;5;241m.\u001b[39mitems():\n\u001b[1;32m   2551\u001b[0m     \u001b[38;5;66;03m# Return if no axis is set.\u001b[39;00m\n\u001b[1;32m   2552\u001b[0m     \u001b[38;5;28;01mif\u001b[39;00m axis \u001b[38;5;129;01mis\u001b[39;00m \u001b[38;5;28;01mNone\u001b[39;00m:\n",
      "File \u001b[0;32m~/.virtualenvs/evalpaper/lib/python3.9/site-packages/matplotlib/axis.py:1675\u001b[0m, in \u001b[0;36mAxis.update_units\u001b[0;34m(self, data)\u001b[0m\n\u001b[1;32m   1673\u001b[0m neednew \u001b[38;5;241m=\u001b[39m \u001b[38;5;28mself\u001b[39m\u001b[38;5;241m.\u001b[39mconverter \u001b[38;5;241m!=\u001b[39m converter\n\u001b[1;32m   1674\u001b[0m \u001b[38;5;28mself\u001b[39m\u001b[38;5;241m.\u001b[39mconverter \u001b[38;5;241m=\u001b[39m converter\n\u001b[0;32m-> 1675\u001b[0m default \u001b[38;5;241m=\u001b[39m \u001b[38;5;28;43mself\u001b[39;49m\u001b[38;5;241;43m.\u001b[39;49m\u001b[43mconverter\u001b[49m\u001b[38;5;241;43m.\u001b[39;49m\u001b[43mdefault_units\u001b[49m\u001b[43m(\u001b[49m\u001b[43mdata\u001b[49m\u001b[43m,\u001b[49m\u001b[43m \u001b[49m\u001b[38;5;28;43mself\u001b[39;49m\u001b[43m)\u001b[49m\n\u001b[1;32m   1676\u001b[0m \u001b[38;5;28;01mif\u001b[39;00m default \u001b[38;5;129;01mis\u001b[39;00m \u001b[38;5;129;01mnot\u001b[39;00m \u001b[38;5;28;01mNone\u001b[39;00m \u001b[38;5;129;01mand\u001b[39;00m \u001b[38;5;28mself\u001b[39m\u001b[38;5;241m.\u001b[39munits \u001b[38;5;129;01mis\u001b[39;00m \u001b[38;5;28;01mNone\u001b[39;00m:\n\u001b[1;32m   1677\u001b[0m     \u001b[38;5;28mself\u001b[39m\u001b[38;5;241m.\u001b[39mset_units(default)\n",
      "File \u001b[0;32m~/.virtualenvs/evalpaper/lib/python3.9/site-packages/matplotlib/category.py:105\u001b[0m, in \u001b[0;36mStrCategoryConverter.default_units\u001b[0;34m(data, axis)\u001b[0m\n\u001b[1;32m    103\u001b[0m \u001b[38;5;66;03m# the conversion call stack is default_units -> axis_info -> convert\u001b[39;00m\n\u001b[1;32m    104\u001b[0m \u001b[38;5;28;01mif\u001b[39;00m axis\u001b[38;5;241m.\u001b[39munits \u001b[38;5;129;01mis\u001b[39;00m \u001b[38;5;28;01mNone\u001b[39;00m:\n\u001b[0;32m--> 105\u001b[0m     axis\u001b[38;5;241m.\u001b[39mset_units(\u001b[43mUnitData\u001b[49m\u001b[43m(\u001b[49m\u001b[43mdata\u001b[49m\u001b[43m)\u001b[49m)\n\u001b[1;32m    106\u001b[0m \u001b[38;5;28;01melse\u001b[39;00m:\n\u001b[1;32m    107\u001b[0m     axis\u001b[38;5;241m.\u001b[39munits\u001b[38;5;241m.\u001b[39mupdate(data)\n",
      "File \u001b[0;32m~/.virtualenvs/evalpaper/lib/python3.9/site-packages/matplotlib/category.py:181\u001b[0m, in \u001b[0;36mUnitData.__init__\u001b[0;34m(self, data)\u001b[0m\n\u001b[1;32m    179\u001b[0m \u001b[38;5;28mself\u001b[39m\u001b[38;5;241m.\u001b[39m_counter \u001b[38;5;241m=\u001b[39m itertools\u001b[38;5;241m.\u001b[39mcount()\n\u001b[1;32m    180\u001b[0m \u001b[38;5;28;01mif\u001b[39;00m data \u001b[38;5;129;01mis\u001b[39;00m \u001b[38;5;129;01mnot\u001b[39;00m \u001b[38;5;28;01mNone\u001b[39;00m:\n\u001b[0;32m--> 181\u001b[0m     \u001b[38;5;28;43mself\u001b[39;49m\u001b[38;5;241;43m.\u001b[39;49m\u001b[43mupdate\u001b[49m\u001b[43m(\u001b[49m\u001b[43mdata\u001b[49m\u001b[43m)\u001b[49m\n",
      "File \u001b[0;32m~/.virtualenvs/evalpaper/lib/python3.9/site-packages/matplotlib/category.py:216\u001b[0m, in \u001b[0;36mUnitData.update\u001b[0;34m(self, data)\u001b[0m\n\u001b[1;32m    213\u001b[0m convertible \u001b[38;5;241m=\u001b[39m \u001b[38;5;28;01mTrue\u001b[39;00m\n\u001b[1;32m    214\u001b[0m \u001b[38;5;28;01mfor\u001b[39;00m val \u001b[38;5;129;01min\u001b[39;00m OrderedDict\u001b[38;5;241m.\u001b[39mfromkeys(data):\n\u001b[1;32m    215\u001b[0m     \u001b[38;5;66;03m# OrderedDict just iterates over unique values in data.\u001b[39;00m\n\u001b[0;32m--> 216\u001b[0m     \u001b[43m_api\u001b[49m\u001b[38;5;241;43m.\u001b[39;49m\u001b[43mcheck_isinstance\u001b[49m\u001b[43m(\u001b[49m\u001b[43m(\u001b[49m\u001b[38;5;28;43mstr\u001b[39;49m\u001b[43m,\u001b[49m\u001b[43m \u001b[49m\u001b[38;5;28;43mbytes\u001b[39;49m\u001b[43m)\u001b[49m\u001b[43m,\u001b[49m\u001b[43m \u001b[49m\u001b[43mvalue\u001b[49m\u001b[38;5;241;43m=\u001b[39;49m\u001b[43mval\u001b[49m\u001b[43m)\u001b[49m\n\u001b[1;32m    217\u001b[0m     \u001b[38;5;28;01mif\u001b[39;00m convertible:\n\u001b[1;32m    218\u001b[0m         \u001b[38;5;66;03m# this will only be called so long as convertible is True.\u001b[39;00m\n\u001b[1;32m    219\u001b[0m         convertible \u001b[38;5;241m=\u001b[39m \u001b[38;5;28mself\u001b[39m\u001b[38;5;241m.\u001b[39m_str_is_convertible(val)\n",
      "File \u001b[0;32m~/.virtualenvs/evalpaper/lib/python3.9/site-packages/matplotlib/_api/__init__.py:93\u001b[0m, in \u001b[0;36mcheck_isinstance\u001b[0;34m(_types, **kwargs)\u001b[0m\n\u001b[1;32m     91\u001b[0m     names\u001b[38;5;241m.\u001b[39mremove(\u001b[38;5;124m\"\u001b[39m\u001b[38;5;124mNone\u001b[39m\u001b[38;5;124m\"\u001b[39m)\n\u001b[1;32m     92\u001b[0m     names\u001b[38;5;241m.\u001b[39mappend(\u001b[38;5;124m\"\u001b[39m\u001b[38;5;124mNone\u001b[39m\u001b[38;5;124m\"\u001b[39m)\n\u001b[0;32m---> 93\u001b[0m \u001b[38;5;28;01mraise\u001b[39;00m \u001b[38;5;167;01mTypeError\u001b[39;00m(\n\u001b[1;32m     94\u001b[0m     \u001b[38;5;124m\"\u001b[39m\u001b[38;5;132;01m{!r}\u001b[39;00m\u001b[38;5;124m must be an instance of \u001b[39m\u001b[38;5;132;01m{}\u001b[39;00m\u001b[38;5;124m, not a \u001b[39m\u001b[38;5;132;01m{}\u001b[39;00m\u001b[38;5;124m\"\u001b[39m\u001b[38;5;241m.\u001b[39mformat(\n\u001b[1;32m     95\u001b[0m         k,\n\u001b[1;32m     96\u001b[0m         \u001b[38;5;124m\"\u001b[39m\u001b[38;5;124m, \u001b[39m\u001b[38;5;124m\"\u001b[39m\u001b[38;5;241m.\u001b[39mjoin(names[:\u001b[38;5;241m-\u001b[39m\u001b[38;5;241m1\u001b[39m]) \u001b[38;5;241m+\u001b[39m \u001b[38;5;124m\"\u001b[39m\u001b[38;5;124m or \u001b[39m\u001b[38;5;124m\"\u001b[39m \u001b[38;5;241m+\u001b[39m names[\u001b[38;5;241m-\u001b[39m\u001b[38;5;241m1\u001b[39m]\n\u001b[1;32m     97\u001b[0m         \u001b[38;5;28;01mif\u001b[39;00m \u001b[38;5;28mlen\u001b[39m(names) \u001b[38;5;241m>\u001b[39m \u001b[38;5;241m1\u001b[39m \u001b[38;5;28;01melse\u001b[39;00m names[\u001b[38;5;241m0\u001b[39m],\n\u001b[1;32m     98\u001b[0m         type_name(\u001b[38;5;28mtype\u001b[39m(v))))\n",
      "\u001b[0;31mTypeError\u001b[0m: 'value' must be an instance of str or bytes, not a float"
     ]
    },
    {
     "data": {
      "image/png": "[encoded data removed]",
      "text/plain": [
       "<Figure size 1500x800 with 2 Axes>"
      ]
     },
     "metadata": {},
     "output_type": "display_data"
    }
   ],
   "source": [
    "cmap = plt.get_cmap('coolwarm')\n",
    "colors = [cmap(i) for i in np.linspace(0, 1, len(questions_avg))]\n",
    "\n",
    "fig, axs = plt.subplots(2, 1, figsize=(15, 8))\n",
    "\n",
    "axs[0].barh(questions_avg['QUESTIONS'].iloc[:3], questions_avg['mean'].iloc[:3], color=colors[:3], align='center')\n",
    "axs[0].set_title('Lowest Rated Questions')\n",
    "axs[0].set_xlabel('Mean Score')\n",
    "axs[0].set_xlim(1,5)\n",
    "axs[0].invert_yaxis()\n",
    "\n",
    "axs[1].barh(questions_avg['QUESTIONS'].iloc[-3:], questions_avg['mean'].iloc[-3:], color=colors[-3:], align='center')\n",
    "axs[1].set_title('Highest Rated Questions')\n",
    "axs[1].set_xlabel('Mean Score')\n",
    "axs[1].set_xlim(1,5)\n",
    "\n",
    "fig.tight_layout(pad=3.0)\n",
    "\n",
    "plt.show()"
   ]
  },
  {
   "cell_type": "markdown",
   "id": "d4ec8807",
   "metadata": {},
   "source": [
    "By computing the average score obtained for each question we can get a general idea of the highest rated questions, i.e., the questions with which the students agree more, and the lowest rated questions. The highest rated questions are:\n",
    "\n",
    "* At all times I have been able to understand what the person who had to respond to the exercise was doing\n",
    "* There are several ways to collaborate with my classmates through the application\n",
    "* I find it more interesting to solve the exercises through the application than through a web page or in writing\n",
    "\n",
    "while the lowest rated questions are:\n",
    "\n",
    "* I think that I would like to use the application frequently.\n",
    "* I thought the application was easy to use.\n",
    "* I found the application very intuitive."
   ]
  },
  {
   "cell_type": "markdown",
   "id": "83726481",
   "metadata": {},
   "source": [
    "At first glance, the common reaction to the experiment is that the application is an interesting approach to solving the exercises. However, the lowest rated questions all relate to the user experience and the students' interest in using it frequently, although the scores were high. It will be interesting to compare the ratings for the usability questions in the mobile-only and PC-only datasets."
   ]
  },
  {
   "cell_type": "markdown",
   "id": "42b7aca0",
   "metadata": {},
   "source": [
    "#### 2) Analysis of the student answers"
   ]
  },
  {
   "cell_type": "markdown",
   "id": "bf2b45c9",
   "metadata": {},
   "source": [
    "Now let's analyse the same data but from the perspective of the students."
   ]
  },
  {
   "cell_type": "code",
   "execution_count": null,
   "id": "f2df1afd",
   "metadata": {},
   "outputs": [],
   "source": [
    "students_avg = students.drop([\"QUESTIONS\", \"Type\"], axis=1)\n",
    "student_list = students_avg.mean().sort_values()\n",
    "student_list = pd.DataFrame(student_list).reset_index()\n",
    "student_list.columns = [\"Student\", \"mean\"]\n",
    "student_list"
   ]
  },
  {
   "cell_type": "code",
   "execution_count": null,
   "id": "20f29385",
   "metadata": {},
   "outputs": [],
   "source": [
    "cmap = plt.get_cmap('coolwarm')\n",
    "colors = [cmap(i) for i in np.linspace(0, 1, len(student_list))]\n",
    "\n",
    "fig = plt.figure(figsize=(10, 8))\n",
    "plt.barh(student_list['Student'], student_list['mean'], color=colors, align='center')\n",
    "plt.title('Average rating by students')\n",
    "plt.xlabel('Mean Score')\n",
    "plt.xlim(1,5)\n",
    "plt.show()"
   ]
  },
  {
   "cell_type": "markdown",
   "id": "6763b5e0",
   "metadata": {},
   "source": [
    "This plot doesn't show any significant difference of opinion between mobile and PC users, but we will further check on that:"
   ]
  },
  {
   "cell_type": "code",
   "execution_count": null,
   "id": "da9be5a5",
   "metadata": {},
   "outputs": [],
   "source": [
    "pc_list = student_list[student_list[\"Student\"].str.startswith((\"PC\"))]\n",
    "pc_list_mean = pc_list[\"mean\"].mean()\n",
    "print(f\"PC-only average score: {pc_list_mean}\")"
   ]
  },
  {
   "cell_type": "code",
   "execution_count": null,
   "id": "9ec9d9eb",
   "metadata": {},
   "outputs": [],
   "source": [
    "mobile_list = student_list[student_list[\"Student\"].str.startswith((\"Android\", \"iPhone\", \"iPad\", \"Tablet\"))]\n",
    "mobile_list_mean = mobile_list[\"mean\"].mean()\n",
    "print(f\"Mobile-only average score: {mobile_list_mean}\")"
   ]
  },
  {
   "cell_type": "code",
   "execution_count": null,
   "id": "e8435a6c",
   "metadata": {},
   "outputs": [],
   "source": [
    "names = [\"PC only\", \"Mobile only\"]\n",
    "values = [pc_list_mean, mobile_list_mean]\n",
    "cmap = plt.get_cmap('coolwarm_r')\n",
    "colors = [cmap(i) for i in np.linspace(0, 1, len(values))]\n",
    "\n",
    "plt.bar(names, values, color=colors)\n",
    "plt.title(\"Average scores for the common questions\")\n",
    "plt.ylabel(\"Average score\")\n",
    "plt.ylim(1,5)\n",
    "plt.show()"
   ]
  },
  {
   "cell_type": "markdown",
   "id": "23cc50bb",
   "metadata": {},
   "source": [
    "We can see that the PC-only students have given a slightly higher average score to the questions in the survey. We will check on this information later when we analyse the specific questions for each student type."
   ]
  },
  {
   "cell_type": "markdown",
   "id": "fe228103",
   "metadata": {},
   "source": [
    "#### 3) Analysis of the question types"
   ]
  },
  {
   "cell_type": "markdown",
   "id": "841adb6b",
   "metadata": {},
   "source": [
    "The final analysis for the common questions will tackle the question types. There are 4 questions types:\n",
    "\n",
    "* Collaboration: Collaborative aspects of the app\n",
    "* Functionality: App Functionalities\n",
    "* Usability: App Usability\n",
    "* Education: Interest as educational tool"
   ]
  },
  {
   "cell_type": "code",
   "execution_count": null,
   "id": "19cb8957",
   "metadata": {},
   "outputs": [],
   "source": [
    "students_q_type = students[[\"Type\", \"mean\"]]\n",
    "students_q_type = students_q_type.groupby(\"Type\", as_index=False)[\"mean\"].mean().sort_values(\"mean\")\n",
    "students_q_type"
   ]
  },
  {
   "cell_type": "code",
   "execution_count": null,
   "id": "35ca7ace",
   "metadata": {},
   "outputs": [],
   "source": [
    "cmap = plt.get_cmap('coolwarm')\n",
    "colors = [cmap(i) for i in np.linspace(0, 1, len(students_q_type))]\n",
    "\n",
    "fig = plt.figure(figsize=(10, 8))\n",
    "plt.barh(students_q_type['Type'], students_q_type['mean'], color=colors, align='center')\n",
    "plt.title('Average rating by type of question')\n",
    "plt.xlabel('Mean Score')\n",
    "plt.xlim(1,5)\n",
    "plt.show()"
   ]
  },
  {
   "cell_type": "markdown",
   "id": "64184401",
   "metadata": {},
   "source": [
    "The highest rated questions are the collaboration ones, while the lowest rated questions are the usability ones."
   ]
  },
  {
   "cell_type": "markdown",
   "id": "a8aaca80",
   "metadata": {},
   "source": [
    "### Mobile-only"
   ]
  },
  {
   "cell_type": "markdown",
   "id": "00661181",
   "metadata": {},
   "source": [
    "Our analysis will focus now on the mobile-only users. There are only 3 question specific for mobile-only users, therefore, in order to increase the size of the dataset, we will include the common questions in this part of the analysis too, while focusing only on the mobile users."
   ]
  },
  {
   "cell_type": "markdown",
   "id": "826aa293",
   "metadata": {},
   "source": [
    "#### 1) General analysis of the mobile-only questions"
   ]
  },
  {
   "cell_type": "markdown",
   "id": "38f3deb0",
   "metadata": {},
   "source": [
    "We will start by analysing the mobile-only questions first and then add the common questions to the dataset."
   ]
  },
  {
   "cell_type": "code",
   "execution_count": null,
   "id": "533bf68b",
   "metadata": {},
   "outputs": [],
   "source": [
    "surveys_mobile = pd.read_excel(\"cuestionarios_salesianos_common.xlsx\", sheet_name=\"MOBILE_ONLY\").iloc[:3,:]\n",
    "surveys_mobile.head()"
   ]
  },
  {
   "cell_type": "code",
   "execution_count": null,
   "id": "b6e66fa6",
   "metadata": {},
   "outputs": [],
   "source": [
    "students_mobile = surveys_mobile.drop([\"Q-M\"], axis=1)\n",
    "students_mobile.head()"
   ]
  },
  {
   "cell_type": "code",
   "execution_count": null,
   "id": "99f8796a",
   "metadata": {},
   "outputs": [],
   "source": [
    "students_mobile['mean'] = students_mobile.mean(numeric_only=True, axis=1)\n",
    "questions_mobile_avg = students_mobile[[\"QUESTIONS\", \"mean\"]]\n",
    "questions_mobile_avg = questions_mobile_avg.sort_values(\"mean\")\n",
    "questions_mobile_avg"
   ]
  },
  {
   "cell_type": "code",
   "execution_count": null,
   "id": "713794bb",
   "metadata": {},
   "outputs": [],
   "source": [
    "cmap = plt.get_cmap('coolwarm')\n",
    "colors = [cmap(i) for i in np.linspace(0, 1, len(questions_mobile_avg))]\n",
    "\n",
    "fig = plt.figure(figsize=(10, 8))\n",
    "plt.barh(questions_mobile_avg['QUESTIONS'], questions_mobile_avg['mean'], color=colors, align='center')\n",
    "plt.title('Average rating for the mobile-only questions')\n",
    "plt.xlabel('Mean Score')\n",
    "plt.xlim(1,5)\n",
    "plt.show()"
   ]
  },
  {
   "cell_type": "markdown",
   "id": "848f4239",
   "metadata": {},
   "source": [
    "All three questions have high average scores. We can see that for mobile users receiving suggestions has made them more confident and the use of AR has made the app more entertaining.\n",
    "\n",
    "Now we will add the common questions too:"
   ]
  },
  {
   "cell_type": "code",
   "execution_count": null,
   "id": "19d57df6",
   "metadata": {},
   "outputs": [],
   "source": [
    "students_common_mobile = students[students.columns.drop(list(students.filter(regex='PC')))]\n",
    "students_common_mobile"
   ]
  },
  {
   "cell_type": "code",
   "execution_count": null,
   "id": "42b0d41e",
   "metadata": {},
   "outputs": [],
   "source": [
    "students_mobile_q = pd.concat([students_mobile, students_common_mobile])\n",
    "students_mobile_q = students_mobile_q.reset_index().drop(\"index\", axis=1)\n",
    "students_mobile_q"
   ]
  },
  {
   "cell_type": "code",
   "execution_count": null,
   "id": "e07aa904",
   "metadata": {},
   "outputs": [],
   "source": [
    "students_mobile_questions = students_mobile_q[[\"QUESTIONS\", \"mean\"]].sort_values(\"mean\")\n",
    "students_mobile_questions"
   ]
  },
  {
   "cell_type": "code",
   "execution_count": null,
   "id": "38458a71",
   "metadata": {},
   "outputs": [],
   "source": [
    "cmap = plt.get_cmap('coolwarm')\n",
    "colors = [cmap(i) for i in np.linspace(0, 1, len(students_mobile_questions))]\n",
    "\n",
    "fig, axs = plt.subplots(2, 1, figsize=(15, 8))\n",
    "\n",
    "axs[0].barh(students_mobile_questions['QUESTIONS'].iloc[:3], students_mobile_questions['mean'].iloc[:3], color=colors[:3], align='center')\n",
    "axs[0].set_title('Lowest Rated Questions')\n",
    "axs[0].set_xlabel('Mean Score')\n",
    "axs[0].set_xlim(1,5)\n",
    "axs[0].invert_yaxis()\n",
    "\n",
    "axs[1].barh(students_mobile_questions['QUESTIONS'].iloc[-3:], students_mobile_questions['mean'].iloc[-3:], color=colors[-3:], align='center')\n",
    "axs[1].set_title('Highest Rated Questions')\n",
    "axs[1].set_xlabel('Mean Score')\n",
    "axs[1].set_xlim(1,5)\n",
    "\n",
    "fig.tight_layout(pad=3.0)\n",
    "\n",
    "plt.show()"
   ]
  },
  {
   "cell_type": "markdown",
   "id": "db820f05",
   "metadata": {},
   "source": [
    "The highest and lowest rated questions for mobile users are very similar to the ones for all the users."
   ]
  },
  {
   "cell_type": "markdown",
   "id": "4170da68",
   "metadata": {},
   "source": [
    "#### 2) Analysis of the mobile students"
   ]
  },
  {
   "cell_type": "markdown",
   "id": "630beaa2",
   "metadata": {},
   "source": [
    "Let's now study the survey answers for the students:"
   ]
  },
  {
   "cell_type": "code",
   "execution_count": null,
   "id": "a3f306c9",
   "metadata": {},
   "outputs": [],
   "source": [
    "students_mobile_avg = students_mobile.drop([\"QUESTIONS\", \"Type\"], axis=1)\n",
    "student_mobile_list = students_mobile_avg.mean().sort_values()\n",
    "student_mobile_list = pd.DataFrame(student_mobile_list).reset_index()\n",
    "student_mobile_list.columns = [\"Student\", \"mean\"]\n",
    "student_mobile_list.drop(student_mobile_list[student_mobile_list[\"Student\"]==\"mean\"].index, inplace = True)\n",
    "student_mobile_list"
   ]
  },
  {
   "cell_type": "code",
   "execution_count": null,
   "id": "76323150",
   "metadata": {},
   "outputs": [],
   "source": [
    "cmap = plt.get_cmap('coolwarm')\n",
    "colors = [cmap(i) for i in np.linspace(0, 1, len(student_mobile_list))]\n",
    "\n",
    "fig = plt.figure(figsize=(10, 8))\n",
    "plt.barh(student_mobile_list['Student'], student_mobile_list['mean'], color=colors, align='center')\n",
    "plt.title('Average rating by mobile-only students (mobile-only questions)')\n",
    "plt.xlabel('Mean Score')\n",
    "plt.xlim(1,5)\n",
    "plt.show()"
   ]
  },
  {
   "cell_type": "markdown",
   "id": "b8276587",
   "metadata": {},
   "source": [
    "When focusing on the mobile-only questions, the scores are significantly high, with the first 3 students having an average rating higher than 4.5. Let's now add the common questions too:"
   ]
  },
  {
   "cell_type": "code",
   "execution_count": null,
   "id": "23c2aeab",
   "metadata": {},
   "outputs": [],
   "source": [
    "students_mobile_avg_common = students_mobile_q.drop([\"QUESTIONS\", \"Type\"], axis=1)\n",
    "student_mobile_common_list = students_mobile_avg_common.mean().sort_values()\n",
    "student_mobile_common_list = pd.DataFrame(student_mobile_common_list).reset_index()\n",
    "student_mobile_common_list.columns = [\"Student\", \"mean\"]\n",
    "student_mobile_common_list.drop(student_mobile_common_list[student_mobile_common_list[\"Student\"]==\"mean\"].index, inplace = True)\n",
    "student_mobile_common_list"
   ]
  },
  {
   "cell_type": "code",
   "execution_count": null,
   "id": "02abedbf",
   "metadata": {},
   "outputs": [],
   "source": [
    "cmap = plt.get_cmap('coolwarm')\n",
    "colors = [cmap(i) for i in np.linspace(0, 1, len(student_mobile_common_list))]\n",
    "\n",
    "fig = plt.figure(figsize=(10, 8))\n",
    "plt.barh(student_mobile_common_list['Student'], student_mobile_common_list['mean'], color=colors, align='center')\n",
    "plt.title('Average rating by mobile-only students')\n",
    "plt.xlabel('Mean Score')\n",
    "plt.xlim(1,5)\n",
    "plt.show()"
   ]
  },
  {
   "cell_type": "markdown",
   "id": "773016e7",
   "metadata": {},
   "source": [
    "The scores are now lower. We'll analyse these data along the app data in a following section to find out correlations between them."
   ]
  },
  {
   "cell_type": "markdown",
   "id": "28deba80",
   "metadata": {},
   "source": [
    "#### 3) Analysis of the question types"
   ]
  },
  {
   "cell_type": "markdown",
   "id": "ee2c7729",
   "metadata": {},
   "source": [
    "We can also analyse the mobile-only questions from the perspective of the type of question, even though there are only two different types represented in this set of questions:"
   ]
  },
  {
   "cell_type": "code",
   "execution_count": null,
   "id": "aab4ba96",
   "metadata": {},
   "outputs": [],
   "source": [
    "students_mobile['mean'] = students_mobile.mean(numeric_only=True, axis=1)\n",
    "students_mobile"
   ]
  },
  {
   "cell_type": "code",
   "execution_count": null,
   "id": "d1a6b6b4",
   "metadata": {},
   "outputs": [],
   "source": [
    "students_mobile_type = students_mobile[[\"Type\", \"mean\"]]\n",
    "students_mobile_type = students_mobile_type.groupby(\"Type\", as_index=False)[\"mean\"].mean().sort_values(\"mean\")\n",
    "students_mobile_type"
   ]
  },
  {
   "cell_type": "code",
   "execution_count": null,
   "id": "f417f95b",
   "metadata": {},
   "outputs": [],
   "source": [
    "cmap = plt.get_cmap('coolwarm')\n",
    "colors = [cmap(i) for i in np.linspace(0, 1, len(students_mobile_type))]\n",
    "\n",
    "fig = plt.figure(figsize=(10, 8))\n",
    "plt.barh(students_mobile_type['Type'], students_mobile_type['mean'], color=colors, align='center')\n",
    "plt.title('Average rating by type of question (mobile-only questions)')\n",
    "plt.xlabel('Mean Score')\n",
    "plt.xlim(1,5)\n",
    "plt.show()"
   ]
  },
  {
   "cell_type": "markdown",
   "id": "2bdcdd99",
   "metadata": {},
   "source": [
    "The education question is higher rated than the collaboration ones in this case. Let's add the common questions:"
   ]
  },
  {
   "cell_type": "code",
   "execution_count": null,
   "id": "185d16a3",
   "metadata": {},
   "outputs": [],
   "source": [
    "students_mobile_q_type = students_mobile_q[[\"Type\", \"mean\"]]\n",
    "students_mobile_q_type = students_mobile_q_type.groupby(\"Type\", as_index=False)[\"mean\"].mean().sort_values(\"mean\")\n",
    "students_mobile_q_type"
   ]
  },
  {
   "cell_type": "code",
   "execution_count": null,
   "id": "79c69124",
   "metadata": {},
   "outputs": [],
   "source": [
    "cmap = plt.get_cmap('coolwarm')\n",
    "colors = [cmap(i) for i in np.linspace(0, 1, len(students_mobile_q_type))]\n",
    "\n",
    "fig = plt.figure(figsize=(10, 8))\n",
    "plt.barh(students_mobile_q_type['Type'], students_mobile_q_type['mean'], color=colors, align='center')\n",
    "plt.title('Average rating by type of question')\n",
    "plt.xlabel('Mean Score')\n",
    "plt.xlim(1,5)\n",
    "plt.show()"
   ]
  },
  {
   "cell_type": "markdown",
   "id": "09687691",
   "metadata": {},
   "source": [
    "The score distribution for the mobile-only users is very similar to the one that includes all the users. The collaboration questions are the highest rated ones."
   ]
  },
  {
   "cell_type": "markdown",
   "id": "f8db319f",
   "metadata": {},
   "source": [
    "### PC-only"
   ]
  },
  {
   "cell_type": "markdown",
   "id": "1528fab8",
   "metadata": {},
   "source": [
    "#### 1) General analysis of the PC-only questions"
   ]
  },
  {
   "cell_type": "markdown",
   "id": "8765aa50",
   "metadata": {},
   "source": [
    "We will focus now on the PC-only question, which asks the PC students whether using 3D elements makes the app more entertaining:"
   ]
  },
  {
   "cell_type": "code",
   "execution_count": null,
   "id": "54e85336",
   "metadata": {},
   "outputs": [],
   "source": [
    "surveys_pc = pd.read_excel(\"cuestionarios_salesianos_common.xlsx\", sheet_name=\"PC_ONLY\").iloc[:1,:]\n",
    "surveys_pc.head()"
   ]
  },
  {
   "cell_type": "code",
   "execution_count": null,
   "id": "bd75b3d6",
   "metadata": {},
   "outputs": [],
   "source": [
    "students_pc = surveys_pc.drop([\"Q-PC\"], axis=1)\n",
    "students_pc['mean'] = students_pc.mean(numeric_only=True, axis=1)\n",
    "questions_pc_avg = students_pc[[\"QUESTIONS\", \"mean\"]]\n",
    "questions_pc_avg = questions_pc_avg.sort_values(\"mean\")\n",
    "questions_pc_avg"
   ]
  },
  {
   "cell_type": "markdown",
   "id": "608ad44c",
   "metadata": {},
   "source": [
    "This is one of the highest rated questions. Let's add the common questions:"
   ]
  },
  {
   "cell_type": "code",
   "execution_count": null,
   "id": "aa39b965",
   "metadata": {},
   "outputs": [],
   "source": [
    "students_common_pc = students[students.columns.drop(list(students.filter(regex=r'(Android|iPhone|iPad|Tablet)')))]\n",
    "students_common_pc"
   ]
  },
  {
   "cell_type": "code",
   "execution_count": null,
   "id": "8312b83f",
   "metadata": {},
   "outputs": [],
   "source": [
    "students_pc_q = pd.concat([students_pc, students_common_pc])\n",
    "students_pc_q = students_pc_q.reset_index().drop(\"index\", axis=1)\n",
    "students_pc_q"
   ]
  },
  {
   "cell_type": "code",
   "execution_count": null,
   "id": "8ea3680e",
   "metadata": {},
   "outputs": [],
   "source": [
    "students_pc_questions = students_pc_q[[\"QUESTIONS\", \"mean\"]].sort_values(\"mean\")\n",
    "students_pc_questions"
   ]
  },
  {
   "cell_type": "code",
   "execution_count": null,
   "id": "69566061",
   "metadata": {},
   "outputs": [],
   "source": [
    "cmap = plt.get_cmap('coolwarm')\n",
    "colors = [cmap(i) for i in np.linspace(0, 1, len(students_pc_questions))]\n",
    "\n",
    "fig, axs = plt.subplots(2, 1, figsize=(15, 8))\n",
    "\n",
    "axs[0].barh(students_pc_questions['QUESTIONS'].iloc[:3], students_pc_questions['mean'].iloc[:3], color=colors[:3], align='center')\n",
    "axs[0].set_title('Lowest Rated Questions')\n",
    "axs[0].set_xlabel('Mean Score')\n",
    "axs[0].set_xlim(1,5)\n",
    "axs[0].invert_yaxis()\n",
    "\n",
    "axs[1].barh(students_pc_questions['QUESTIONS'].iloc[-3:], students_pc_questions['mean'].iloc[-3:], color=colors[-3:], align='center')\n",
    "axs[1].set_title('Highest Rated Questions')\n",
    "axs[1].set_xlabel('Mean Score')\n",
    "axs[1].set_xlim(1,5)\n",
    "\n",
    "fig.tight_layout(pad=3.0)\n",
    "\n",
    "plt.show()"
   ]
  },
  {
   "cell_type": "markdown",
   "id": "ac0a5405",
   "metadata": {},
   "source": [
    "The PC-only uqestions appears as the highest rated one for PC students, while the rest of the questions are the same as for all students."
   ]
  },
  {
   "cell_type": "markdown",
   "id": "1dfee235",
   "metadata": {},
   "source": [
    "#### 2) Analysis of the PC students"
   ]
  },
  {
   "cell_type": "markdown",
   "id": "87f26840",
   "metadata": {},
   "source": [
    "We'll focus now on the PC students:"
   ]
  },
  {
   "cell_type": "code",
   "execution_count": null,
   "id": "6637b675",
   "metadata": {},
   "outputs": [],
   "source": [
    "students_pc_avg = students_pc_q.drop([\"QUESTIONS\", \"Type\"], axis=1)\n",
    "student_pc_list = students_pc_avg.mean().sort_values()\n",
    "student_pc_list = pd.DataFrame(student_pc_list).reset_index()\n",
    "student_pc_list.columns = [\"Student\", \"mean\"]\n",
    "student_pc_list.drop(student_pc_list[student_pc_list[\"Student\"]==\"mean\"].index, inplace = True)\n",
    "student_pc_list"
   ]
  },
  {
   "cell_type": "code",
   "execution_count": null,
   "id": "d458594f",
   "metadata": {},
   "outputs": [],
   "source": [
    "cmap = plt.get_cmap('coolwarm')\n",
    "colors = [cmap(i) for i in np.linspace(0, 1, len(student_pc_list))]\n",
    "\n",
    "fig = plt.figure(figsize=(10, 8))\n",
    "plt.barh(student_pc_list['Student'], student_pc_list['mean'], color=colors, align='center')\n",
    "plt.title('Average rating by PC-only students')\n",
    "plt.xlabel('Mean Score')\n",
    "plt.xlim(1,5)\n",
    "plt.show()"
   ]
  },
  {
   "cell_type": "markdown",
   "id": "811c71b3",
   "metadata": {},
   "source": [
    "In this case we have one of the students who gave one of the highest average scores to the survey as well as one who gave one of the lowest average scores. We will check on these data when studying the app data."
   ]
  },
  {
   "cell_type": "markdown",
   "id": "3d720e0e",
   "metadata": {},
   "source": [
    "#### 3) Analysis of the question types"
   ]
  },
  {
   "cell_type": "markdown",
   "id": "4200828b",
   "metadata": {},
   "source": [
    "There is only one Education question:"
   ]
  },
  {
   "cell_type": "code",
   "execution_count": null,
   "id": "55b4cdb8",
   "metadata": {},
   "outputs": [],
   "source": [
    "students_pc_type = students_pc[[\"Type\", \"mean\"]]\n",
    "students_pc_type = students_pc_type.groupby(\"Type\", as_index=False)[\"mean\"].mean().sort_values(\"mean\")\n",
    "students_pc_type"
   ]
  },
  {
   "cell_type": "markdown",
   "id": "12ac9dd0",
   "metadata": {},
   "source": [
    "When adding the rest of the common questions:"
   ]
  },
  {
   "cell_type": "code",
   "execution_count": null,
   "id": "25dbbf5d",
   "metadata": {},
   "outputs": [],
   "source": [
    "students_pc_common_type = students_pc_q[[\"Type\", \"mean\"]]\n",
    "students_pc_common_type = students_pc_common_type.groupby(\"Type\", as_index=False)[\"mean\"].mean().sort_values(\"mean\")\n",
    "students_pc_common_type"
   ]
  },
  {
   "cell_type": "code",
   "execution_count": null,
   "id": "85404d5d",
   "metadata": {},
   "outputs": [],
   "source": [
    "cmap = plt.get_cmap('coolwarm')\n",
    "colors = [cmap(i) for i in np.linspace(0, 1, len(students_pc_common_type))]\n",
    "\n",
    "fig = plt.figure(figsize=(10, 8))\n",
    "plt.barh(students_pc_common_type['Type'], students_pc_common_type['mean'], color=colors, align='center')\n",
    "plt.title('Average rating by type of question')\n",
    "plt.xlabel('Mean Score')\n",
    "plt.xlim(1,5)\n",
    "plt.show()"
   ]
  },
  {
   "cell_type": "markdown",
   "id": "b8ee5c1c",
   "metadata": {},
   "source": [
    "Education is the highest rated question type for PC students."
   ]
  },
  {
   "cell_type": "markdown",
   "id": "e74341f4",
   "metadata": {},
   "source": [
    "## App data"
   ]
  },
  {
   "cell_type": "markdown",
   "id": "cb04edea",
   "metadata": {},
   "source": [
    "Let's turn to the app data analysis. The raw data is stored in a file with a different structure:"
   ]
  },
  {
   "cell_type": "code",
   "execution_count": null,
   "id": "6fd7390e",
   "metadata": {},
   "outputs": [],
   "source": [
    "df = pd.read_csv(\"Salesianos_filtered_cleaned.csv\", index_col=0).reset_index(drop=True)\n",
    "df.head()"
   ]
  },
  {
   "cell_type": "markdown",
   "id": "0ed1f0d7",
   "metadata": {},
   "source": [
    "The three most important columns are **actor**-**verb**-**object**, which create a sentence-like structure. We can see the actions that the app registers from the **verb** column:"
   ]
  },
  {
   "cell_type": "code",
   "execution_count": null,
   "id": "161a06e8",
   "metadata": {},
   "outputs": [],
   "source": [
    "df[\"verb\"].unique()"
   ]
  },
  {
   "cell_type": "markdown",
   "id": "bee355a1",
   "metadata": {},
   "source": [
    "#### 1) Student interactions with the app (and how they correlate with the survey answers)"
   ]
  },
  {
   "cell_type": "markdown",
   "id": "06a7cca8",
   "metadata": {},
   "source": [
    "We will start the app data analysis by looking at the number of total interactions that the students had. First, we have to clean the dataset because the actor column includes some names that should not be included, as well as one student who had to leave (Android3)."
   ]
  },
  {
   "cell_type": "code",
   "execution_count": null,
   "id": "f77a3cc7",
   "metadata": {},
   "outputs": [],
   "source": [
    "df[\"actor\"].unique()"
   ]
  },
  {
   "cell_type": "code",
   "execution_count": null,
   "id": "4b9ac2b7",
   "metadata": {},
   "outputs": [],
   "source": [
    "df[(df[\"actor\"]==\"Android3\")]"
   ]
  },
  {
   "cell_type": "code",
   "execution_count": null,
   "id": "30e1cce4",
   "metadata": {},
   "outputs": [],
   "source": [
    "a = [\"Nuria\", \"Eider\", \"Janire\", \"Lucia\", \"unai\", \"Android3\"]\n",
    "students_app = df[~df['actor'].isin(a)]\n",
    "students_app[\"actor\"].unique()"
   ]
  },
  {
   "cell_type": "markdown",
   "id": "e521dceb",
   "metadata": {},
   "source": [
    "We should further clean the dataset so that the actor names are the same as in the surveys."
   ]
  },
  {
   "cell_type": "code",
   "execution_count": null,
   "id": "68c89d24",
   "metadata": {},
   "outputs": [],
   "source": [
    "students_app = students_app.replace({\"actor\": {\"Iphone 1\": \"iPhone1\", \"iphone 1\": \"iPhone1\", \"Ipad1\": \"iPad1\", \"Ipad2\": \"iPad2\"}})\n",
    "students_app[\"actor\"] = students_app[\"actor\"].str.replace(\" \",\"\")\n",
    "students_app[\"actor\"].unique()"
   ]
  },
  {
   "cell_type": "markdown",
   "id": "1765bd3e",
   "metadata": {},
   "source": [
    "We won't count \"Logged In\" or \"Logged Out\" as interactions, since they do not contribute to the real use of the app:"
   ]
  },
  {
   "cell_type": "code",
   "execution_count": null,
   "id": "05523082",
   "metadata": {},
   "outputs": [],
   "source": [
    "actions = [\"Logged In\", \"Logged Out\"]\n",
    "students_app_interactions = students_app[~students_app['verb'].isin(actions)]\n",
    "students_app_interactions[\"verb\"].unique()"
   ]
  },
  {
   "cell_type": "code",
   "execution_count": null,
   "id": "fc2005a2",
   "metadata": {
    "scrolled": true
   },
   "outputs": [],
   "source": [
    "interactions = students_app_interactions.groupby(['actor'])[\"verb\"].agg(['count']).sort_values(\"count\")\n",
    "interactions"
   ]
  },
  {
   "cell_type": "markdown",
   "id": "989f78bd",
   "metadata": {},
   "source": [
    "The previous aggregation clearly shows that the PC students have significantly less interactions than the mobile students. This is due to their only interaction being the suggestions, as can be shown in the next line:"
   ]
  },
  {
   "cell_type": "code",
   "execution_count": null,
   "id": "88581c2e",
   "metadata": {},
   "outputs": [],
   "source": [
    "students_app_interactions[(students_app_interactions[\"actor\"]==\"PC009\")][\"verb\"].unique()"
   ]
  },
  {
   "cell_type": "markdown",
   "id": "bcfc9995",
   "metadata": {},
   "source": [
    "Let's plot the number of interactions:"
   ]
  },
  {
   "cell_type": "code",
   "execution_count": null,
   "id": "2b25298e",
   "metadata": {},
   "outputs": [],
   "source": [
    "cmap = plt.get_cmap('coolwarm')\n",
    "colors = [cmap(i) for i in np.linspace(0, 1, len(interactions))]\n",
    "\n",
    "fig = plt.figure(figsize=(10, 8))\n",
    "plt.barh(interactions.index, interactions['count'], color=colors, align='center')\n",
    "plt.title('Number of interactions for each student')\n",
    "plt.xlabel('Interactions')\n",
    "plt.show()"
   ]
  },
  {
   "cell_type": "markdown",
   "id": "069843c0",
   "metadata": {},
   "source": [
    "The interesting aspect to analyse is whether there is any correlation between the number of interactions for each student and the answers they have given to the survey questions. We will follow two statistical approaches:\n",
    "\n",
    "1) **Correlation analysis**: We will investigate whether there is a correlation between the number of interactions and the average scores given to the questions by the students. To do this, we will calculate the Pearson correlation coefficient and the corresponding p-value. The Pearson correlation coefficient measures the strength and direction of the linear relationship between the interactions and the scores, and the p-value indicates whether this relationship is statistically significant. If the p-value is below a significance level of 0.05, we can conclude that there is evidence of a significant correlation between the interactions and the survey scores.\n",
    "\n",
    "2) **Hypothesis testing**: We will also perform a hypothesis test to investigate whether the survey answers given by students who had a high number of interactions are significantly different from the survey answers given by students who had a low number of interactions. We will perform a two-sample t-test assuming equal variances, which returns the t-statistic and the corresponding p-value. As in the previous analysis, if the p-value is below 0.05, we can conclude that there is evidence of a significant difference in survey answers between the two groups."
   ]
  },
  {
   "cell_type": "markdown",
   "id": "e9b71809",
   "metadata": {},
   "source": [
    "Since the interactions between the PC and mobile users are significantly different, we will also perform the analysis for the PC dataset and the mobile dataset separately."
   ]
  },
  {
   "cell_type": "code",
   "execution_count": null,
   "id": "b046a71e",
   "metadata": {},
   "outputs": [],
   "source": [
    "interactions = interactions.reset_index()\n",
    "int_df = student_list.merge(interactions, left_on=\"Student\", right_on=\"actor\").drop(\"actor\", axis=1)\n",
    "int_pc_df = student_pc_list.merge(interactions, left_on=\"Student\", right_on=\"actor\").drop(\"actor\", axis=1)\n",
    "int_mobile_df = student_mobile_common_list.merge(interactions, left_on=\"Student\", right_on=\"actor\").drop(\"actor\", axis=1)"
   ]
  },
  {
   "cell_type": "code",
   "execution_count": null,
   "id": "01f6cf31",
   "metadata": {},
   "outputs": [],
   "source": [
    "from scipy.stats import ttest_ind, pearsonr\n",
    "\n",
    "high_interactions = int_df[\"mean\"][int_df[\"count\"] >= int_df[\"count\"].mean()]\n",
    "low_interactions = int_df[\"mean\"][int_df[\"count\"] < int_df[\"count\"].mean()]\n",
    "\n",
    "t_stat, p_value = ttest_ind(high_interactions, low_interactions)\n",
    "print(f\"T-statistic: {t_stat}\")\n",
    "print(f\"P-value: {p_value}\\n\")\n",
    "\n",
    "corr_coef, p_value = pearsonr(int_df[\"count\"], int_df[\"mean\"])\n",
    "print(f\"Pearson correlation coefficient: {corr_coef}\")\n",
    "print(f\"P-value: {p_value}\")"
   ]
  },
  {
   "cell_type": "code",
   "execution_count": null,
   "id": "ed7769ce",
   "metadata": {},
   "outputs": [],
   "source": [
    "high_interactions = int_mobile_df[\"mean\"][int_mobile_df[\"count\"] >= int_mobile_df[\"count\"].mean()]\n",
    "low_interactions = int_mobile_df[\"mean\"][int_mobile_df[\"count\"] < int_mobile_df[\"count\"].mean()]\n",
    "\n",
    "t_stat, p_value = ttest_ind(high_interactions, low_interactions)\n",
    "print(f\"T-statistic: {t_stat}\")\n",
    "print(f\"P-value: {p_value}\\n\")\n",
    "\n",
    "corr_coef, p_value = pearsonr(int_mobile_df[\"count\"], int_mobile_df[\"mean\"])\n",
    "print(f\"Pearson correlation coefficient: {corr_coef}\")\n",
    "print(f\"P-value: {p_value}\")"
   ]
  },
  {
   "cell_type": "code",
   "execution_count": null,
   "id": "fb20df23",
   "metadata": {},
   "outputs": [],
   "source": [
    "high_interactions = int_pc_df[\"mean\"][int_pc_df[\"count\"] >= int_pc_df[\"count\"].mean()]\n",
    "low_interactions = int_pc_df[\"mean\"][int_pc_df[\"count\"] < int_pc_df[\"count\"].mean()]\n",
    "\n",
    "t_stat, p_value = ttest_ind(high_interactions, low_interactions)\n",
    "print(f\"T-statistic: {t_stat}\")\n",
    "print(f\"P-value: {p_value}\\n\")\n",
    "\n",
    "corr_coef, p_value = pearsonr(int_pc_df[\"count\"], int_pc_df[\"mean\"])\n",
    "print(f\"Pearson correlation coefficient: {corr_coef}\")\n",
    "print(f\"P-value: {p_value}\")"
   ]
  },
  {
   "cell_type": "markdown",
   "id": "cc2aeeb4",
   "metadata": {},
   "source": [
    "Since none of the p-values are below the significance level of 0.05 we have set and the correlation coefficients are very close to 0, we can conclude that there is no significant relationship between the number of interactions and the survey answers of the students."
   ]
  },
  {
   "cell_type": "markdown",
   "id": "cfe311cd",
   "metadata": {},
   "source": [
    "#### 2) Mobile students' grades"
   ]
  },
  {
   "cell_type": "markdown",
   "id": "d24bc073",
   "metadata": {},
   "source": [
    "When the mobile students submit an answer, the teacher assigns them a grade, which can be found in the \"Assigned\" action. We will study whether there is correlation between the grade the students have obtained and their answers to the survey."
   ]
  },
  {
   "cell_type": "code",
   "execution_count": null,
   "id": "0ed6b50a",
   "metadata": {},
   "outputs": [],
   "source": [
    "df[(df[\"actor\"]==\"Teacher\") & (df[\"verb\"]==\"Assigned\")].head()"
   ]
  },
  {
   "cell_type": "markdown",
   "id": "ce214d69",
   "metadata": {},
   "source": [
    "In the previous dataframe we can see where the grades are stored. We need to extract them and clean the user names."
   ]
  },
  {
   "cell_type": "code",
   "execution_count": null,
   "id": "fda3f071",
   "metadata": {},
   "outputs": [],
   "source": [
    "grades = pd.DataFrame(df[(df[\"actor\"]==\"Teacher\") & (df[\"verb\"]==\"Assigned\")][\"object\"].str.split(\";\", expand=True))\n",
    "grades.columns = [\"score\", \"student\"]\n",
    "grades[\"student\"].unique()"
   ]
  },
  {
   "cell_type": "code",
   "execution_count": null,
   "id": "5d518bbc",
   "metadata": {},
   "outputs": [],
   "source": [
    "grades = grades.replace({\"student\": {\"iPhone_1\": \"iPhone1\", \"iphone_1\": \"iPhone1\", \"Ipad1\": \"iPad1\", \"Ipad2\": \"iPad2\", \"Tablet_2\": \"Tablet2\", \"Tablet1_\": \"Tablet1\"}})\n",
    "grades"
   ]
  },
  {
   "cell_type": "code",
   "execution_count": null,
   "id": "3ee6deaf",
   "metadata": {},
   "outputs": [],
   "source": [
    "grades[\"score\"] = grades[\"score\"].astype(\"float\")\n",
    "grades = grades.groupby('student', as_index=False)['score'].mean().sort_values(\"score\")\n",
    "grades"
   ]
  },
  {
   "cell_type": "code",
   "execution_count": null,
   "id": "e0fae66e",
   "metadata": {},
   "outputs": [],
   "source": [
    "cmap = plt.get_cmap('coolwarm')\n",
    "colors = [cmap(i) for i in np.linspace(0, 1, len(grades))]\n",
    "\n",
    "fig = plt.figure(figsize=(10, 8))\n",
    "plt.barh(grades[\"student\"], grades['score'], color=colors, align='center')\n",
    "plt.title('Average grade obtained by each mobile-only student')\n",
    "plt.xlabel('Average Grade')\n",
    "plt.xlim(0, 10)\n",
    "plt.show()"
   ]
  },
  {
   "cell_type": "markdown",
   "id": "88121b56",
   "metadata": {},
   "source": [
    "We will now perform the same analysis than in the previous section with the survey answers to see if there is correlation between the survey answers and the grades obtained."
   ]
  },
  {
   "cell_type": "code",
   "execution_count": null,
   "id": "91eda9f4",
   "metadata": {},
   "outputs": [],
   "source": [
    "grade_df = student_list.merge(grades, left_on=\"Student\", right_on=\"student\").drop(\"student\", axis=1)\n",
    "grade_df"
   ]
  },
  {
   "cell_type": "code",
   "execution_count": null,
   "id": "7ad62d17",
   "metadata": {},
   "outputs": [],
   "source": [
    "high_grade = grade_df[\"mean\"][grade_df[\"score\"] >= grade_df[\"score\"].mean()]\n",
    "low_grade = grade_df[\"mean\"][grade_df[\"score\"] < grade_df[\"score\"].mean()]\n",
    "\n",
    "t_stat, p_value = ttest_ind(high_grade, low_grade)\n",
    "print(f\"T-statistic: {t_stat}\")\n",
    "print(f\"P-value: {p_value}\\n\")\n",
    "\n",
    "corr_coef, p_value = pearsonr(grade_df[\"score\"], grade_df[\"mean\"])\n",
    "print(f\"Pearson correlation coefficient: {corr_coef}\")\n",
    "print(f\"P-value: {p_value}\")"
   ]
  },
  {
   "cell_type": "markdown",
   "id": "5d28eddd",
   "metadata": {},
   "source": [
    "Even though in this case the correlation is slightly higher, the p-value remains below our established significance level; therefore, we cannot say that there is correlation. "
   ]
  },
  {
   "cell_type": "markdown",
   "id": "c78a1afd",
   "metadata": {},
   "source": [
    "Another interesting focus point would be to study the correlation between the number of interactions by the mobile-only students and the grades they've obtained:"
   ]
  },
  {
   "cell_type": "code",
   "execution_count": null,
   "id": "2331e2e0",
   "metadata": {},
   "outputs": [],
   "source": [
    "int_grade_df = interactions.merge(grades, left_on=\"actor\", right_on=\"student\").drop(\"student\", axis=1)\n",
    "int_grade_df"
   ]
  },
  {
   "cell_type": "code",
   "execution_count": null,
   "id": "1eea7823",
   "metadata": {},
   "outputs": [],
   "source": [
    "high_grade = int_grade_df[\"count\"][int_grade_df[\"score\"] >= int_grade_df[\"score\"].mean()]\n",
    "low_grade = int_grade_df[\"count\"][int_grade_df[\"score\"] < int_grade_df[\"score\"].mean()]\n",
    "\n",
    "t_stat, p_value = ttest_ind(high_grade, low_grade)\n",
    "print(f\"T-statistic: {t_stat}\")\n",
    "print(f\"P-value: {p_value}\\n\")\n",
    "\n",
    "corr_coef, p_value = pearsonr(int_grade_df[\"score\"], int_grade_df[\"count\"])\n",
    "print(f\"Pearson correlation coefficient: {corr_coef}\")\n",
    "print(f\"P-value: {p_value}\")"
   ]
  },
  {
   "cell_type": "markdown",
   "id": "7a8783e6",
   "metadata": {},
   "source": [
    "This test shows us that there is no clear correlation in this case too."
   ]
  },
  {
   "cell_type": "markdown",
   "id": "ba5a5162",
   "metadata": {},
   "source": [
    "#### 3) PC students suggestions"
   ]
  },
  {
   "cell_type": "markdown",
   "id": "cbfcca1d",
   "metadata": {},
   "source": [
    "Since the PC students can only provide suggestions as their actions (or interactions with the app), this analysis has already been covered in Section 1), showing that there is no correlation between the number of suggestions sent and their answers to the survey. Besides that, the PC students do not receive grades."
   ]
  },
  {
   "cell_type": "markdown",
   "id": "dc9d4915",
   "metadata": {},
   "source": [
    "#### 4) Mobile students accepted suggestions"
   ]
  },
  {
   "cell_type": "markdown",
   "id": "51c283dd",
   "metadata": {},
   "source": [
    "As opposed to Section 3), we can study the mobile-only students' accepted suggestions and check whether they are correlated to their grades and to their answers to the survey."
   ]
  },
  {
   "cell_type": "code",
   "execution_count": null,
   "id": "ec7282bc",
   "metadata": {},
   "outputs": [],
   "source": [
    "accepted_suggestions = students_app[students_app[\"verb\"]==\"Accepted\"]"
   ]
  },
  {
   "cell_type": "code",
   "execution_count": null,
   "id": "68bc0170",
   "metadata": {},
   "outputs": [],
   "source": [
    "accepted = accepted_suggestions.groupby(['actor'])[\"verb\"].agg(['count']).sort_values(\"count\").reset_index()\n",
    "accepted"
   ]
  },
  {
   "cell_type": "markdown",
   "id": "11a162b5",
   "metadata": {},
   "source": [
    "We will perform the same analysis as before, first with the survey answers:"
   ]
  },
  {
   "cell_type": "code",
   "execution_count": null,
   "id": "becc8fd7",
   "metadata": {},
   "outputs": [],
   "source": [
    "accepted_df = student_list.merge(accepted, left_on=\"Student\", right_on=\"actor\").drop(\"actor\", axis=1)\n",
    "accepted_df"
   ]
  },
  {
   "cell_type": "code",
   "execution_count": null,
   "id": "304f25c8",
   "metadata": {},
   "outputs": [],
   "source": [
    "high_accepted = accepted_df[\"count\"][accepted_df[\"mean\"] >= accepted_df[\"mean\"].mean()]\n",
    "low_accepted = accepted_df[\"count\"][accepted_df[\"mean\"] < accepted_df[\"mean\"].mean()]\n",
    "\n",
    "t_stat, p_value = ttest_ind(high_accepted, low_accepted)\n",
    "print(f\"T-statistic: {t_stat}\")\n",
    "print(f\"P-value: {p_value}\\n\")\n",
    "\n",
    "corr_coef, p_value = pearsonr(accepted_df[\"mean\"], accepted_df[\"count\"])\n",
    "print(f\"Pearson correlation coefficient: {corr_coef}\")\n",
    "print(f\"P-value: {p_value}\")"
   ]
  },
  {
   "cell_type": "markdown",
   "id": "9bd7955d",
   "metadata": {},
   "source": [
    "This test shows us that there is no clear correlation in this case. Let's check with the grades:"
   ]
  },
  {
   "cell_type": "code",
   "execution_count": null,
   "id": "93368f79",
   "metadata": {},
   "outputs": [],
   "source": [
    "accepted_grades_df = grades.merge(accepted, left_on=\"student\", right_on=\"actor\").drop(\"actor\", axis=1)\n",
    "accepted_grades_df"
   ]
  },
  {
   "cell_type": "code",
   "execution_count": null,
   "id": "37891edd",
   "metadata": {},
   "outputs": [],
   "source": [
    "high_accepted = accepted_grades_df[\"count\"][accepted_grades_df[\"score\"] >= accepted_grades_df[\"score\"].mean()]\n",
    "low_accepted = accepted_grades_df[\"count\"][accepted_grades_df[\"score\"] < accepted_grades_df[\"score\"].mean()]\n",
    "\n",
    "t_stat, p_value = ttest_ind(high_accepted, low_accepted)\n",
    "print(f\"T-statistic: {t_stat}\")\n",
    "print(f\"P-value: {p_value}\\n\")\n",
    "\n",
    "corr_coef, p_value = pearsonr(accepted_grades_df[\"score\"], accepted_grades_df[\"count\"])\n",
    "print(f\"Pearson correlation coefficient: {corr_coef}\")\n",
    "print(f\"P-value: {p_value}\")"
   ]
  },
  {
   "cell_type": "markdown",
   "id": "b538ae32",
   "metadata": {},
   "source": [
    "There is no correlation in this case either."
   ]
  },
  {
   "cell_type": "markdown",
   "id": "9f5a0fdc",
   "metadata": {},
   "source": [
    "#### 5) Left time in students' sent answers"
   ]
  },
  {
   "cell_type": "markdown",
   "id": "206e68f4",
   "metadata": {},
   "source": [
    "Our final step in the analysis will focus on the time left for the students; we will analyse its correlation with the grades."
   ]
  },
  {
   "cell_type": "code",
   "execution_count": null,
   "id": "ac3ecd7a",
   "metadata": {},
   "outputs": [],
   "source": [
    "time_left = students_app[students_app[\"verb\"]==\"Sent\"]\n",
    "time_left.head()"
   ]
  },
  {
   "cell_type": "code",
   "execution_count": null,
   "id": "18a0482c",
   "metadata": {},
   "outputs": [],
   "source": [
    "time = pd.DataFrame(students_app[df[\"verb\"]==\"Sent\"][\"object\"].str.split(\"\\) \", expand=True))\n",
    "time.columns = [\"student\", \"time\"]\n",
    "time = time[[\"time\"]]\n",
    "time_left[\"time\"] = time\n",
    "time_left.head()"
   ]
  },
  {
   "cell_type": "code",
   "execution_count": null,
   "id": "ef8a69ff",
   "metadata": {},
   "outputs": [],
   "source": [
    "time_left_df = time_left[[\"actor\", \"time\"]]\n",
    "time_left_df"
   ]
  },
  {
   "cell_type": "code",
   "execution_count": null,
   "id": "b893b6ba",
   "metadata": {},
   "outputs": [],
   "source": [
    "time_left_df[\"time\"] = time_left_df[\"time\"].astype(\"float\")\n",
    "time_left_df = time_left_df.groupby('actor', as_index=False)['time'].mean().sort_values(\"time\")\n",
    "time_left_df"
   ]
  },
  {
   "cell_type": "code",
   "execution_count": null,
   "id": "b7ed4f48",
   "metadata": {},
   "outputs": [],
   "source": [
    "time_grades_df = grades.merge(time_left_df, left_on=\"student\", right_on=\"actor\").drop(\"actor\", axis=1)\n",
    "time_grades_df"
   ]
  },
  {
   "cell_type": "code",
   "execution_count": null,
   "id": "8874bf09",
   "metadata": {},
   "outputs": [],
   "source": [
    "high = time_grades_df[\"time\"][time_grades_df[\"score\"] >= time_grades_df[\"score\"].mean()]\n",
    "low = time_grades_df[\"time\"][time_grades_df[\"score\"] < time_grades_df[\"score\"].mean()]\n",
    "\n",
    "t_stat, p_value = ttest_ind(high, low)\n",
    "print(f\"T-statistic: {t_stat}\")\n",
    "print(f\"P-value: {p_value}\\n\")\n",
    "\n",
    "corr_coef, p_value = pearsonr(time_grades_df[\"score\"], time_grades_df[\"time\"])\n",
    "print(f\"Pearson correlation coefficient: {corr_coef}\")\n",
    "print(f\"P-value: {p_value}\")"
   ]
  },
  {
   "cell_type": "markdown",
   "id": "5aa9f2ac",
   "metadata": {},
   "source": [
    "There is no correlation in this case either."
   ]
  },
  {
   "cell_type": "markdown",
   "id": "ff96edad",
   "metadata": {},
   "source": [
    "## AI-based analysis: dimensionality reduction and clustering of the data"
   ]
  },
  {
   "cell_type": "markdown",
   "id": "51c93ca3",
   "metadata": {},
   "source": [
    "Even though the lack of data for this use case makes the application of AI a hard task, we can try to incorporate some elements into this case. For instance, let's focus only on the mobile students, since they have a greater number of features to work with. Let's assume that the average grade they obtain in the app (which we have analysed in section 2) in the App data section) is a function of the number of interactions they have made, the number of accepted suggestions, the time they have left, and the average score for the survey answers.\n",
    "\n",
    "We will apply a PCA (Principal Component Analysis) model to find out the principal components that explain the variance in the data, in this case the obtained grades. We will also be able to visualize the relationships between the principal components and the grades in a 2D space and create clusters for them."
   ]
  },
  {
   "cell_type": "code",
   "execution_count": null,
   "id": "ce32ddc2",
   "metadata": {},
   "outputs": [],
   "source": [
    "accepted_suggestions = accepted_grades_df.drop(\"score\", axis=1)"
   ]
  },
  {
   "cell_type": "code",
   "execution_count": null,
   "id": "a2d74d2d",
   "metadata": {},
   "outputs": [],
   "source": [
    "df_ai = time_grades_df.merge(accepted_suggestions, left_on=\"student\", right_on=\"student\")\n",
    "ai = df_ai.merge(int_mobile_df, left_on=\"student\", right_on=\"Student\").drop(\"Student\", axis=1)\n",
    "ai.columns = [\"student\", \"grade\", \"time_left\", \"accepted_suggestions\", \"survey_score\", \"interactions\"]\n",
    "ai"
   ]
  },
  {
   "cell_type": "code",
   "execution_count": null,
   "id": "3562333b",
   "metadata": {},
   "outputs": [],
   "source": [
    "from sklearn.preprocessing import StandardScaler\n",
    "from sklearn.decomposition import PCA\n",
    "from sklearn.cluster import KMeans\n",
    "\n",
    "X = ai.drop([\"grade\",\"student\"], axis=1)\n",
    "\n",
    "scaler = StandardScaler()\n",
    "X_std = scaler.fit_transform(X)\n",
    "\n",
    "pca = PCA(n_components=2)\n",
    "principal_components = pca.fit_transform(X_std)\n",
    "\n",
    "result = pd.DataFrame(principal_components, columns=['PC1', 'PC2'])\n",
    "result['grade'] = ai['grade']\n",
    "\n",
    "import seaborn as sns\n",
    "sns.scatterplot(x='PC1', y='PC2', hue='grade', data=result)"
   ]
  },
  {
   "cell_type": "markdown",
   "id": "6c89eac7",
   "metadata": {},
   "source": [
    "Wehave applied the PCA model and now we can identify clusters using KMeans:"
   ]
  },
  {
   "cell_type": "code",
   "execution_count": null,
   "id": "431c1c92",
   "metadata": {},
   "outputs": [],
   "source": [
    "kmeans = KMeans(n_clusters=3)\n",
    "kmeans.fit(principal_components)\n",
    "cluster_labels = kmeans.labels_"
   ]
  },
  {
   "cell_type": "code",
   "execution_count": null,
   "id": "80ef897b",
   "metadata": {},
   "outputs": [],
   "source": [
    "plt.scatter(principal_components[:, 0], principal_components[:, 1], c=cluster_labels)\n",
    "plt.xlabel('PC1')\n",
    "plt.ylabel('PC2')\n",
    "plt.title('PCA and K-Means Clustering')\n",
    "plt.legend()\n",
    "plt.show()"
   ]
  },
  {
   "cell_type": "markdown",
   "id": "1445e541",
   "metadata": {},
   "source": [
    "We have identified 3 clusters. However, since there are only 8 data points, the clusters are not very clear. As soon as we have more data, the clustering will be better. We can also try to create clusters for the survey scores:"
   ]
  },
  {
   "cell_type": "code",
   "execution_count": null,
   "id": "e00dd613",
   "metadata": {},
   "outputs": [],
   "source": [
    "ai[\"survey_score\"]"
   ]
  },
  {
   "cell_type": "code",
   "execution_count": null,
   "id": "a23ec0e6",
   "metadata": {},
   "outputs": [],
   "source": [
    "X = ai[\"survey_score\"].values.reshape(-1, 1)\n",
    "X_std = (X - X.mean(axis=0)) / X.std(axis=0)\n",
    "\n",
    "kmeans = KMeans(n_clusters=3)\n",
    "\n",
    "kmeans.fit(X_std)\n",
    "\n",
    "cluster_labels = kmeans.labels_"
   ]
  },
  {
   "cell_type": "code",
   "execution_count": null,
   "id": "e5248923",
   "metadata": {},
   "outputs": [],
   "source": [
    "plt.scatter(X[:, 0], ai['grade'], c=cluster_labels)\n",
    "plt.xlabel('Survey Score')\n",
    "plt.ylabel('Grade')\n",
    "plt.title('K-means Clustering')\n",
    "plt.legend()\n",
    "plt.show()"
   ]
  },
  {
   "cell_type": "markdown",
   "id": "0e892d4a",
   "metadata": {},
   "source": [
    "## Conclusions"
   ]
  },
  {
   "cell_type": "markdown",
   "id": "87aa4030",
   "metadata": {},
   "source": [
    "We have performed a thorough analysis on the survey and app data and have found the following conclusions:\n",
    "\n",
    "* **There is no correlation between the grade and the other variables (time left, interactions, etc.)** We have performed several statistical tests which show no correlation. However, the data is still very limited; future experiments could confirm some correlations, which is what we expected.\n",
    "\n",
    "* **The app is entertaining for students and helps them to learn but the usability is not the best.** Although the scores for the survey questions are all very good, the highest rated questions are the collaboration and the education ones, while the lowest rated questions were the usability ones.\n",
    "\n",
    "* **The grades are good on average and the students use the suggestions.** We have analysed the interactions and the suggestions and have found out that they have helped the students. It would be great to have some grades for the PC students too."
   ]
  },
  {
   "cell_type": "code",
   "execution_count": null,
   "id": "3fa7d503",
   "metadata": {},
   "outputs": [],
   "source": []
  }
 ],
 "metadata": {
  "kernelspec": {
   "display_name": "Python 3 (ipykernel)",
   "language": "python",
   "name": "python3"
  },
  "language_info": {
   "codemirror_mode": {
    "name": "ipython",
    "version": 3
   },
   "file_extension": ".py",
   "mimetype": "text/x-python",
   "name": "python",
   "nbconvert_exporter": "python",
   "pygments_lexer": "ipython3",
   "version": "3.9.16"
  }
 },
 "nbformat": 4,
 "nbformat_minor": 5
}
